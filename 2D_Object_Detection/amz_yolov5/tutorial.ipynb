{
  "cells": [
    {
      "cell_type": "markdown",
      "metadata": {
        "colab_type": "text",
        "id": "view-in-github"
      },
      "source": [
        "<a href=\"https://colab.research.google.com/github/ultralytics/yolov5/blob/master/tutorial.ipynb\" target=\"_parent\"><img src=\"https://colab.research.google.com/assets/colab-badge.svg\" alt=\"Open In Colab\"/></a>"
      ]
    },
    {
      "cell_type": "markdown",
      "metadata": {
        "id": "t6MPjfT5NrKQ"
      },
      "source": [
        "<a align=\"left\" href=\"https://ultralytics.com/yolov5\" target=\"_blank\">\n",
        "<img width=\"1024\", src=\"https://user-images.githubusercontent.com/26833433/125273437-35b3fc00-e30d-11eb-9079-46f313325424.png\"></a>\n",
        "\n",
        "This is the **official YOLOv5 🚀 notebook** by **Ultralytics**, and is freely available for redistribution under the [GPL-3.0 license](https://choosealicense.com/licenses/gpl-3.0/). \n",
        "For more information please visit https://github.com/ultralytics/yolov5 and https://ultralytics.com. Thank you!"
      ]
    },
    {
      "cell_type": "markdown",
      "metadata": {
        "id": "7mGmQbAO5pQb"
      },
      "source": [
        "# Setup\n",
        "\n",
        "Clone repo, install dependencies and check PyTorch and GPU."
      ]
    },
    {
      "cell_type": "code",
      "execution_count": null,
      "metadata": {
        "colab": {
          "base_uri": "https://localhost:8080/"
        },
        "id": "wbvMlHd_QwMG",
        "outputId": "3809e5a9-dd41-4577-fe62-5531abf7cca2"
      },
      "outputs": [
        {
          "name": "stdout",
          "output_type": "stream",
          "text": [
            "YOLOv5 🚀 v6.0-48-g84a8099 torch 1.10.0+cu102 CUDA:0 (Tesla V100-SXM2-16GB, 16160MiB)\n",
            "Setup complete ✅\n"
          ]
        }
      ],
      "source": [
        "!git clone https://github.com/ultralytics/yolov5  # clone\n",
        "%cd yolov5\n",
        "%pip install -r requirements.txt  # install\n",
        "\n",
        "import torch\n",
        "from yolov5 import utils\n",
        "display = utils.notebook_init()  # checks"
      ]
    },
    {
      "cell_type": "code",
      "execution_count": 2,
      "metadata": {},
      "outputs": [
        {
          "data": {
            "text/plain": [
              "'/home/qimaqi/Downloads/AMZ/yolov5'"
            ]
          },
          "execution_count": 2,
          "metadata": {},
          "output_type": "execute_result"
        }
      ],
      "source": [
        "pwd"
      ]
    },
    {
      "cell_type": "code",
      "execution_count": 1,
      "metadata": {},
      "outputs": [],
      "source": [
        "import torch\n",
        "# import utils# from yolov5 import utils\n",
        "# display = utils.notebook_init()  # checks"
      ]
    },
    {
      "cell_type": "markdown",
      "metadata": {
        "id": "4JnkELT0cIJg"
      },
      "source": [
        "# 1. Inference\n",
        "\n",
        "`detect.py` runs YOLOv5 inference on a variety of sources, downloading models automatically from the [latest YOLOv5 release](https://github.com/ultralytics/yolov5/releases), and saving results to `runs/detect`. Example inference sources are:\n",
        "\n",
        "```shell\n",
        "python detect.py --source 0  # webcam\n",
        "                          img.jpg  # image \n",
        "                          vid.mp4  # video\n",
        "                          path/  # directory\n",
        "                          path/*.jpg  # glob\n",
        "                          'https://youtu.be/Zgi9g1ksQHc'  # YouTube\n",
        "                          'rtsp://example.com/media.mp4'  # RTSP, RTMP, HTTP stream\n",
        "```"
      ]
    },
    {
      "cell_type": "code",
      "execution_count": 3,
      "metadata": {
        "colab": {
          "base_uri": "https://localhost:8080/"
        },
        "id": "zR9ZbuQCH7FX",
        "outputId": "8f7e6588-215d-4ebd-93af-88b871e770a7"
      },
      "outputs": [
        {
          "name": "stdout",
          "output_type": "stream",
          "text": [
            "\u001b[34m\u001b[1mdetect: \u001b[0mweights=['weights/yolov5s.pt'], source=/home/qimaqi/Downloads/datasets/data_annotation_2022/images, data=data/coco128.yaml, imgsz=[2596, 2596], conf_thres=0.25, iou_thres=0.45, max_det=1000, device=, view_img=False, save_txt=True, save_conf=False, save_crop=False, nosave=False, classes=None, agnostic_nms=False, augment=False, visualize=False, update=False, project=runs/detect, name=exp, exist_ok=False, line_thickness=3, hide_labels=False, hide_conf=False, half=False, dnn=False\n",
            "/home/qimaqi/.local/lib/python3.8/site-packages/pkg_resources/__init__.py:122: PkgResourcesDeprecationWarning: 0.23ubuntu1 is an invalid version and will not be supported in a future release\n",
            "  warnings.warn(\n",
            "/home/qimaqi/.local/lib/python3.8/site-packages/pkg_resources/__init__.py:122: PkgResourcesDeprecationWarning: 0.1.36ubuntu1 is an invalid version and will not be supported in a future release\n",
            "  warnings.warn(\n",
            "/home/qimaqi/.local/lib/python3.8/site-packages/pkg_resources/__init__.py:122: PkgResourcesDeprecationWarning: 1.13.1-unknown is an invalid version and will not be supported in a future release\n",
            "  warnings.warn(\n",
            "\u001b[31m\u001b[1mrequirements:\u001b[0m opencv-python>=4.1.2 not found and is required by YOLOv5, attempting auto-update...\n",
            "\u001b[33mDEPRECATION: Python 2.7 reached the end of its life on January 1st, 2020. Please upgrade your Python as Python 2.7 is no longer maintained. pip 21.0 will drop support for Python 2.7 in January 2021. More details about Python 2 support in pip can be found at https://pip.pypa.io/en/latest/development/release-process/#python-2-support pip 21.0 will remove support for this functionality.\u001b[0m\n",
            "^C\n",
            "\u001b[31mERROR: Operation cancelled by user\u001b[0m\n",
            "Traceback (most recent call last):\n",
            "  File \"/home/qimaqi/Downloads/amz/amz_yolov5/utils/general.py\", line 298, in check_requirements\n",
            "    pkg.require(r)\n",
            "  File \"/home/qimaqi/.local/lib/python3.8/site-packages/pkg_resources/__init__.py\", line 897, in require\n",
            "    needed = self.resolve(parse_requirements(requirements))\n",
            "  File \"/home/qimaqi/.local/lib/python3.8/site-packages/pkg_resources/__init__.py\", line 783, in resolve\n",
            "    raise DistributionNotFound(req, requirers)\n",
            "pkg_resources.DistributionNotFound: The 'opencv-python>=4.1.2' distribution was not found and is required by the application\n",
            "\n",
            "During handling of the above exception, another exception occurred:\n",
            "\n",
            "Traceback (most recent call last):\n",
            "  File \"detect.py\", line 257, in <module>\n",
            "    main(opt)\n",
            "  File \"detect.py\", line 251, in main\n",
            "    check_requirements(exclude=('tensorboard', 'thop'))\n",
            "  File \"/home/qimaqi/Downloads/amz/amz_yolov5/utils/general.py\", line 150, in handler\n",
            "    func(*args, **kwargs)\n",
            "  File \"/home/qimaqi/Downloads/amz/amz_yolov5/utils/general.py\", line 305, in check_requirements\n",
            "    LOGGER.info(check_output(f\"pip install '{r}'\", shell=True).decode())\n",
            "  File \"/usr/lib/python3.8/subprocess.py\", line 415, in check_output\n",
            "    return run(*popenargs, stdout=PIPE, timeout=timeout, check=True,\n",
            "  File \"/usr/lib/python3.8/subprocess.py\", line 495, in run\n",
            "    stdout, stderr = process.communicate(input, timeout=timeout)\n",
            "  File \"/usr/lib/python3.8/subprocess.py\", line 1015, in communicate\n",
            "    stdout = self.stdout.read()\n",
            "KeyboardInterrupt\n"
          ]
        }
      ],
      "source": [
        "!python detect.py --weights weights/yolov5s.pt --img 640 --conf 0.25 --source data/images --save-txt\n",
        "# display.Image(filename='runs/detect/exp/zidane.jpg', width=600)\n",
        "# !python3 detect.py --weights weights/yolov5s.pt --img 2596 --conf 0.25 --source data/rainy_images --save-txt"
      ]
    },
    {
      "cell_type": "markdown",
      "metadata": {
        "id": "hkAzDWJ7cWTr"
      },
      "source": [
        "&nbsp;&nbsp;&nbsp;&nbsp;&nbsp;&nbsp;&nbsp;&nbsp;\n",
        "<img align=\"left\" src=\"https://user-images.githubusercontent.com/26833433/127574988-6a558aa1-d268-44b9-bf6b-62d4c605cc72.jpg\" width=\"600\">"
      ]
    },
    {
      "cell_type": "markdown",
      "metadata": {
        "id": "0eq1SMWl6Sfn"
      },
      "source": [
        "# 2. Validate\n",
        "Validate a model's accuracy on [COCO](https://cocodataset.org/#home) val or test-dev datasets. Models are downloaded automatically from the [latest YOLOv5 release](https://github.com/ultralytics/yolov5/releases). To show results by class use the `--verbose` flag. Note that `pycocotools` metrics may be ~1% better than the equivalent repo metrics, as is visible below, due to slight differences in mAP computation."
      ]
    },
    {
      "cell_type": "markdown",
      "metadata": {
        "id": "eyTZYGgRjnMc"
      },
      "source": [
        "## COCO val\n",
        "Download [COCO val 2017](https://github.com/ultralytics/yolov5/blob/74b34872fdf41941cddcf243951cdb090fbac17b/data/coco.yaml#L14) dataset (1GB - 5000 images), and test model accuracy."
      ]
    },
    {
      "cell_type": "code",
      "execution_count": 4,
      "metadata": {
        "colab": {
          "base_uri": "https://localhost:8080/",
          "height": 48,
          "referenced_widgets": [
            "eb95db7cae194218b3fcefb439b6352f",
            "769ecde6f2e64bacb596ce972f8d3d2d",
            "384a001876054c93b0af45cd1e960bfe",
            "dded0aeae74440f7ba2ffa0beb8dd612",
            "5296d28be75740b2892ae421bbec3657",
            "9f09facb2a6c4a7096810d327c8b551c",
            "25621cff5d16448cb7260e839fd0f543",
            "0ce7164fc0c74bb9a2b5c7037375a727",
            "c4c4593c10904cb5b8a5724d60c7e181",
            "473371611126476c88d5d42ec7031ed6",
            "65efdfd0d26c46e79c8c5ff3b77126cc"
          ]
        },
        "id": "WQPtK1QYVaD_",
        "outputId": "bcf9a448-1f9b-4a41-ad49-12f181faf05a"
      },
      "outputs": [
        {
          "name": "stderr",
          "output_type": "stream",
          "text": [
            "100%|██████████| 780M/780M [02:53<00:00, 4.73MB/s] "
          ]
        },
        {
          "name": "stdout",
          "output_type": "stream",
          "text": [
            "replace ../datasets/coco/.DS_Store? [y]es, [n]o, [A]ll, [N]one, [r]ename: "
          ]
        },
        {
          "name": "stderr",
          "output_type": "stream",
          "text": [
            "\n"
          ]
        },
        {
          "name": "stdout",
          "output_type": "stream",
          "text": [
            "^C\n"
          ]
        }
      ],
      "source": [
        "# Download COCO val\n",
        "torch.hub.download_url_to_file('https://ultralytics.com/assets/coco2017val.zip', 'tmp.zip')\n",
        "!unzip -q tmp.zip -d ../datasets && rm tmp.zip"
      ]
    },
    {
      "cell_type": "code",
      "execution_count": 3,
      "metadata": {
        "colab": {
          "base_uri": "https://localhost:8080/"
        },
        "id": "X58w8JLpMnjH",
        "outputId": "74f1dfa9-6b6d-4b36-f67e-bbae243869f9"
      },
      "outputs": [
        {
          "name": "stdout",
          "output_type": "stream",
          "text": [
            "python version 3.8.10 (default, Nov 26 2021, 20:14:08) \n",
            "[GCC 9.3.0]\n",
            "\u001b[34m\u001b[1mval: \u001b[0mdata=/home/qimaqi/Downloads/amz/amz_yolov5/data/amz.yaml, weights=['weights/yolov5s.pt'], batch_size=32, imgsz=2592, conf_thres=0.001, iou_thres=0.65, task=val, device=cpu, workers=8, single_cls=False, augment=False, verbose=False, save_txt=False, save_hybrid=False, save_conf=False, save_json=False, project=runs/val, name=exp, exist_ok=False, half=False, dnn=False\n",
            "YOLOv5 🚀 a66d625 torch 1.9.1+cu102 CPU\n",
            "\n",
            "Fusing layers... \n",
            "Model Summary: 224 layers, 7056607 parameters, 0 gradients\n",
            "\u001b[34m\u001b[1mval: \u001b[0mScanning '/home/qimaqi/Downloads/amz/amz_yolov5/../../datasets/sf2020/label\u001b[0m\n",
            "\u001b[34m\u001b[1mval: \u001b[0mWARNING: /home/qimaqi/Downloads/amz/amz_yolov5/../../datasets/sf2020/images/autocross_2020-07-05-11-58-07/forward_camera_filtered/00000117.png: 10 duplicate labels removed\n",
            "\u001b[34m\u001b[1mval: \u001b[0mWARNING: /home/qimaqi/Downloads/amz/amz_yolov5/../../datasets/sf2020/images/autocross_2020-07-05-11-58-07/forward_camera_filtered/00000126.png: 11 duplicate labels removed\n",
            "\u001b[34m\u001b[1mval: \u001b[0mWARNING: /home/qimaqi/Downloads/amz/amz_yolov5/../../datasets/sf2020/images/autocross_2020-07-05-11-58-07/forward_camera_filtered/00000139.png: 13 duplicate labels removed\n",
            "\u001b[34m\u001b[1mval: \u001b[0mWARNING: /home/qimaqi/Downloads/amz/amz_yolov5/../../datasets/sf2020/images/autocross_2020-07-05-11-58-07/left_camera_filtered/00000001.png: 14 duplicate labels removed\n",
            "\u001b[34m\u001b[1mval: \u001b[0mWARNING: /home/qimaqi/Downloads/amz/amz_yolov5/../../datasets/sf2020/images/autocross_2020-07-05-11-58-07/left_camera_filtered/00000002.png: 13 duplicate labels removed\n",
            "\u001b[34m\u001b[1mval: \u001b[0mWARNING: /home/qimaqi/Downloads/amz/amz_yolov5/../../datasets/sf2020/images/autocross_2020-07-05-11-58-07/left_camera_filtered/00000003.png: 12 duplicate labels removed\n",
            "\u001b[34m\u001b[1mval: \u001b[0mWARNING: /home/qimaqi/Downloads/amz/amz_yolov5/../../datasets/sf2020/images/autocross_2020-07-05-11-58-07/left_camera_filtered/00000004.png: 14 duplicate labels removed\n",
            "\u001b[34m\u001b[1mval: \u001b[0mWARNING: /home/qimaqi/Downloads/amz/amz_yolov5/../../datasets/sf2020/images/autocross_2020-07-05-11-58-07/left_camera_filtered/00000005.png: 15 duplicate labels removed\n",
            "\u001b[34m\u001b[1mval: \u001b[0mWARNING: /home/qimaqi/Downloads/amz/amz_yolov5/../../datasets/sf2020/images/autocross_2020-07-05-11-58-07/left_camera_filtered/00000006.png: 13 duplicate labels removed\n",
            "\u001b[34m\u001b[1mval: \u001b[0mWARNING: /home/qimaqi/Downloads/amz/amz_yolov5/../../datasets/sf2020/images/autocross_2020-07-05-11-58-07/left_camera_filtered/00000007.png: 13 duplicate labels removed\n",
            "\u001b[34m\u001b[1mval: \u001b[0mWARNING: /home/qimaqi/Downloads/amz/amz_yolov5/../../datasets/sf2020/images/autocross_2020-07-05-11-58-07/left_camera_filtered/00000008.png: 10 duplicate labels removed\n",
            "\u001b[34m\u001b[1mval: \u001b[0mWARNING: /home/qimaqi/Downloads/amz/amz_yolov5/../../datasets/sf2020/images/autocross_2020-07-05-11-58-07/left_camera_filtered/00000009.png: 11 duplicate labels removed\n",
            "\u001b[34m\u001b[1mval: \u001b[0mWARNING: /home/qimaqi/Downloads/amz/amz_yolov5/../../datasets/sf2020/images/autocross_2020-07-05-11-58-07/left_camera_filtered/00000010.png: 13 duplicate labels removed\n",
            "\u001b[34m\u001b[1mval: \u001b[0mWARNING: /home/qimaqi/Downloads/amz/amz_yolov5/../../datasets/sf2020/images/autocross_2020-07-05-11-58-07/left_camera_filtered/00000011.png: 11 duplicate labels removed\n",
            "\u001b[34m\u001b[1mval: \u001b[0mWARNING: /home/qimaqi/Downloads/amz/amz_yolov5/../../datasets/sf2020/images/autocross_2020-07-05-11-58-07/left_camera_filtered/00000012.png: 12 duplicate labels removed\n",
            "\u001b[34m\u001b[1mval: \u001b[0mWARNING: /home/qimaqi/Downloads/amz/amz_yolov5/../../datasets/sf2020/images/autocross_2020-07-05-11-58-07/left_camera_filtered/00000013.png: 13 duplicate labels removed\n",
            "\u001b[34m\u001b[1mval: \u001b[0mWARNING: /home/qimaqi/Downloads/amz/amz_yolov5/../../datasets/sf2020/images/autocross_2020-07-05-11-58-07/left_camera_filtered/00000014.png: 14 duplicate labels removed\n",
            "\u001b[34m\u001b[1mval: \u001b[0mWARNING: /home/qimaqi/Downloads/amz/amz_yolov5/../../datasets/sf2020/images/autocross_2020-07-05-11-58-07/left_camera_filtered/00000015.png: 15 duplicate labels removed\n",
            "\u001b[34m\u001b[1mval: \u001b[0mWARNING: /home/qimaqi/Downloads/amz/amz_yolov5/../../datasets/sf2020/images/autocross_2020-07-05-11-58-07/left_camera_filtered/00000016.png: 14 duplicate labels removed\n",
            "\u001b[34m\u001b[1mval: \u001b[0mWARNING: /home/qimaqi/Downloads/amz/amz_yolov5/../../datasets/sf2020/images/autocross_2020-07-05-11-58-07/left_camera_filtered/00000017.png: 13 duplicate labels removed\n",
            "\u001b[34m\u001b[1mval: \u001b[0mWARNING: /home/qimaqi/Downloads/amz/amz_yolov5/../../datasets/sf2020/images/autocross_2020-07-05-11-58-07/left_camera_filtered/00000018.png: 12 duplicate labels removed\n",
            "\u001b[34m\u001b[1mval: \u001b[0mWARNING: /home/qimaqi/Downloads/amz/amz_yolov5/../../datasets/sf2020/images/autocross_2020-07-05-11-58-07/left_camera_filtered/00000019.png: 13 duplicate labels removed\n",
            "\u001b[34m\u001b[1mval: \u001b[0mWARNING: /home/qimaqi/Downloads/amz/amz_yolov5/../../datasets/sf2020/images/autocross_2020-07-05-11-58-07/left_camera_filtered/00000020.png: 12 duplicate labels removed\n",
            "\u001b[34m\u001b[1mval: \u001b[0mWARNING: /home/qimaqi/Downloads/amz/amz_yolov5/../../datasets/sf2020/images/autocross_2020-07-05-11-58-07/left_camera_filtered/00000021.png: 12 duplicate labels removed\n",
            "\u001b[34m\u001b[1mval: \u001b[0mWARNING: /home/qimaqi/Downloads/amz/amz_yolov5/../../datasets/sf2020/images/autocross_2020-07-05-11-58-07/left_camera_filtered/00000022.png: 13 duplicate labels removed\n",
            "\u001b[34m\u001b[1mval: \u001b[0mWARNING: /home/qimaqi/Downloads/amz/amz_yolov5/../../datasets/sf2020/images/autocross_2020-07-05-11-58-07/left_camera_filtered/00000023.png: 11 duplicate labels removed\n",
            "\u001b[34m\u001b[1mval: \u001b[0mWARNING: /home/qimaqi/Downloads/amz/amz_yolov5/../../datasets/sf2020/images/autocross_2020-07-05-11-58-07/left_camera_filtered/00000024.png: 14 duplicate labels removed\n",
            "\u001b[34m\u001b[1mval: \u001b[0mWARNING: /home/qimaqi/Downloads/amz/amz_yolov5/../../datasets/sf2020/images/autocross_2020-07-05-11-58-07/left_camera_filtered/00000025.png: 11 duplicate labels removed\n",
            "\u001b[34m\u001b[1mval: \u001b[0mWARNING: /home/qimaqi/Downloads/amz/amz_yolov5/../../datasets/sf2020/images/autocross_2020-07-05-11-58-07/left_camera_filtered/00000027.png: 10 duplicate labels removed\n",
            "\u001b[34m\u001b[1mval: \u001b[0mWARNING: /home/qimaqi/Downloads/amz/amz_yolov5/../../datasets/sf2020/images/autocross_2020-07-05-11-58-07/left_camera_filtered/00000028.png: 12 duplicate labels removed\n",
            "\u001b[34m\u001b[1mval: \u001b[0mWARNING: /home/qimaqi/Downloads/amz/amz_yolov5/../../datasets/sf2020/images/autocross_2020-07-05-11-58-07/left_camera_filtered/00000029.png: 13 duplicate labels removed\n",
            "\u001b[34m\u001b[1mval: \u001b[0mWARNING: /home/qimaqi/Downloads/amz/amz_yolov5/../../datasets/sf2020/images/autocross_2020-07-05-11-58-07/left_camera_filtered/00000030.png: 12 duplicate labels removed\n",
            "\u001b[34m\u001b[1mval: \u001b[0mWARNING: /home/qimaqi/Downloads/amz/amz_yolov5/../../datasets/sf2020/images/autocross_2020-07-05-11-58-07/left_camera_filtered/00000031.png: 8 duplicate labels removed\n",
            "\u001b[34m\u001b[1mval: \u001b[0mWARNING: /home/qimaqi/Downloads/amz/amz_yolov5/../../datasets/sf2020/images/autocross_2020-07-05-11-58-07/left_camera_filtered/00000032.png: 11 duplicate labels removed\n",
            "\u001b[34m\u001b[1mval: \u001b[0mWARNING: /home/qimaqi/Downloads/amz/amz_yolov5/../../datasets/sf2020/images/autocross_2020-07-05-11-58-07/left_camera_filtered/00000033.png: 11 duplicate labels removed\n",
            "\u001b[34m\u001b[1mval: \u001b[0mWARNING: /home/qimaqi/Downloads/amz/amz_yolov5/../../datasets/sf2020/images/autocross_2020-07-05-11-58-07/left_camera_filtered/00000034.png: 12 duplicate labels removed\n",
            "\u001b[34m\u001b[1mval: \u001b[0mWARNING: /home/qimaqi/Downloads/amz/amz_yolov5/../../datasets/sf2020/images/autocross_2020-07-05-11-58-07/left_camera_filtered/00000035.png: 13 duplicate labels removed\n",
            "\u001b[34m\u001b[1mval: \u001b[0mWARNING: /home/qimaqi/Downloads/amz/amz_yolov5/../../datasets/sf2020/images/autocross_2020-07-05-11-58-07/left_camera_filtered/00000036.png: 10 duplicate labels removed\n",
            "\u001b[34m\u001b[1mval: \u001b[0mWARNING: /home/qimaqi/Downloads/amz/amz_yolov5/../../datasets/sf2020/images/autocross_2020-07-05-11-58-07/left_camera_filtered/00000037.png: 10 duplicate labels removed\n",
            "\u001b[34m\u001b[1mval: \u001b[0mWARNING: /home/qimaqi/Downloads/amz/amz_yolov5/../../datasets/sf2020/images/autocross_2020-07-05-11-58-07/left_camera_filtered/00000038.png: 10 duplicate labels removed\n",
            "\u001b[34m\u001b[1mval: \u001b[0mWARNING: /home/qimaqi/Downloads/amz/amz_yolov5/../../datasets/sf2020/images/autocross_2020-07-05-11-58-07/left_camera_filtered/00000039.png: 9 duplicate labels removed\n",
            "\u001b[34m\u001b[1mval: \u001b[0mWARNING: /home/qimaqi/Downloads/amz/amz_yolov5/../../datasets/sf2020/images/autocross_2020-07-05-11-58-07/left_camera_filtered/00000040.png: 9 duplicate labels removed\n",
            "\u001b[34m\u001b[1mval: \u001b[0mWARNING: /home/qimaqi/Downloads/amz/amz_yolov5/../../datasets/sf2020/images/autocross_2020-07-05-11-58-07/left_camera_filtered/00000041.png: 10 duplicate labels removed\n",
            "\u001b[34m\u001b[1mval: \u001b[0mWARNING: /home/qimaqi/Downloads/amz/amz_yolov5/../../datasets/sf2020/images/autocross_2020-07-05-11-58-07/left_camera_filtered/00000042.png: 10 duplicate labels removed\n",
            "\u001b[34m\u001b[1mval: \u001b[0mWARNING: /home/qimaqi/Downloads/amz/amz_yolov5/../../datasets/sf2020/images/autocross_2020-07-05-11-58-07/left_camera_filtered/00000043.png: 9 duplicate labels removed\n",
            "\u001b[34m\u001b[1mval: \u001b[0mWARNING: /home/qimaqi/Downloads/amz/amz_yolov5/../../datasets/sf2020/images/autocross_2020-07-05-11-58-07/left_camera_filtered/00000044.png: 9 duplicate labels removed\n",
            "\u001b[34m\u001b[1mval: \u001b[0mWARNING: /home/qimaqi/Downloads/amz/amz_yolov5/../../datasets/sf2020/images/autocross_2020-07-05-11-58-07/left_camera_filtered/00000045.png: 9 duplicate labels removed\n",
            "\u001b[34m\u001b[1mval: \u001b[0mWARNING: /home/qimaqi/Downloads/amz/amz_yolov5/../../datasets/sf2020/images/autocross_2020-07-05-11-58-07/left_camera_filtered/00000046.png: 9 duplicate labels removed\n",
            "\u001b[34m\u001b[1mval: \u001b[0mWARNING: /home/qimaqi/Downloads/amz/amz_yolov5/../../datasets/sf2020/images/autocross_2020-07-05-11-58-07/left_camera_filtered/00000047.png: 10 duplicate labels removed\n",
            "\u001b[34m\u001b[1mval: \u001b[0mWARNING: /home/qimaqi/Downloads/amz/amz_yolov5/../../datasets/sf2020/images/autocross_2020-07-05-11-58-07/left_camera_filtered/00000048.png: 9 duplicate labels removed\n",
            "\u001b[34m\u001b[1mval: \u001b[0mWARNING: /home/qimaqi/Downloads/amz/amz_yolov5/../../datasets/sf2020/images/autocross_2020-07-05-11-58-07/left_camera_filtered/00000049.png: 8 duplicate labels removed\n",
            "\u001b[34m\u001b[1mval: \u001b[0mWARNING: /home/qimaqi/Downloads/amz/amz_yolov5/../../datasets/sf2020/images/autocross_2020-07-05-11-58-07/left_camera_filtered/00000050.png: 9 duplicate labels removed\n",
            "\u001b[34m\u001b[1mval: \u001b[0mWARNING: /home/qimaqi/Downloads/amz/amz_yolov5/../../datasets/sf2020/images/autocross_2020-07-05-11-58-07/left_camera_filtered/00000051.png: 7 duplicate labels removed\n",
            "\u001b[34m\u001b[1mval: \u001b[0mWARNING: /home/qimaqi/Downloads/amz/amz_yolov5/../../datasets/sf2020/images/autocross_2020-07-05-11-58-07/left_camera_filtered/00000052.png: 9 duplicate labels removed\n",
            "\u001b[34m\u001b[1mval: \u001b[0mWARNING: /home/qimaqi/Downloads/amz/amz_yolov5/../../datasets/sf2020/images/autocross_2020-07-05-11-58-07/left_camera_filtered/00000053.png: 7 duplicate labels removed\n",
            "\u001b[34m\u001b[1mval: \u001b[0mWARNING: /home/qimaqi/Downloads/amz/amz_yolov5/../../datasets/sf2020/images/autocross_2020-07-05-11-58-07/left_camera_filtered/00000054.png: 5 duplicate labels removed\n",
            "\u001b[34m\u001b[1mval: \u001b[0mWARNING: /home/qimaqi/Downloads/amz/amz_yolov5/../../datasets/sf2020/images/autocross_2020-07-05-11-58-07/left_camera_filtered/00000055.png: 6 duplicate labels removed\n",
            "\u001b[34m\u001b[1mval: \u001b[0mWARNING: /home/qimaqi/Downloads/amz/amz_yolov5/../../datasets/sf2020/images/autocross_2020-07-05-11-58-07/left_camera_filtered/00000056.png: 6 duplicate labels removed\n",
            "\u001b[34m\u001b[1mval: \u001b[0mWARNING: /home/qimaqi/Downloads/amz/amz_yolov5/../../datasets/sf2020/images/autocross_2020-07-05-11-58-07/left_camera_filtered/00000057.png: 5 duplicate labels removed\n",
            "\u001b[34m\u001b[1mval: \u001b[0mWARNING: /home/qimaqi/Downloads/amz/amz_yolov5/../../datasets/sf2020/images/autocross_2020-07-05-11-58-07/left_camera_filtered/00000058.png: 5 duplicate labels removed\n",
            "\u001b[34m\u001b[1mval: \u001b[0mWARNING: /home/qimaqi/Downloads/amz/amz_yolov5/../../datasets/sf2020/images/autocross_2020-07-05-11-58-07/left_camera_filtered/00000059.png: 6 duplicate labels removed\n",
            "\u001b[34m\u001b[1mval: \u001b[0mWARNING: /home/qimaqi/Downloads/amz/amz_yolov5/../../datasets/sf2020/images/autocross_2020-07-05-11-58-07/left_camera_filtered/00000060.png: 5 duplicate labels removed\n",
            "\u001b[34m\u001b[1mval: \u001b[0mWARNING: /home/qimaqi/Downloads/amz/amz_yolov5/../../datasets/sf2020/images/autocross_2020-07-05-11-58-07/left_camera_filtered/00000061.png: 4 duplicate labels removed\n",
            "\u001b[34m\u001b[1mval: \u001b[0mWARNING: /home/qimaqi/Downloads/amz/amz_yolov5/../../datasets/sf2020/images/autocross_2020-07-05-11-58-07/left_camera_filtered/00000062.png: 8 duplicate labels removed\n",
            "\u001b[34m\u001b[1mval: \u001b[0mWARNING: /home/qimaqi/Downloads/amz/amz_yolov5/../../datasets/sf2020/images/autocross_2020-07-05-11-58-07/left_camera_filtered/00000063.png: 6 duplicate labels removed\n",
            "\u001b[34m\u001b[1mval: \u001b[0mWARNING: /home/qimaqi/Downloads/amz/amz_yolov5/../../datasets/sf2020/images/autocross_2020-07-05-11-58-07/left_camera_filtered/00000064.png: 5 duplicate labels removed\n",
            "\u001b[34m\u001b[1mval: \u001b[0mWARNING: /home/qimaqi/Downloads/amz/amz_yolov5/../../datasets/sf2020/images/autocross_2020-07-05-11-58-07/left_camera_filtered/00000065.png: 5 duplicate labels removed\n",
            "\u001b[34m\u001b[1mval: \u001b[0mWARNING: /home/qimaqi/Downloads/amz/amz_yolov5/../../datasets/sf2020/images/autocross_2020-07-05-11-58-07/left_camera_filtered/00000066.png: 5 duplicate labels removed\n",
            "\u001b[34m\u001b[1mval: \u001b[0mWARNING: /home/qimaqi/Downloads/amz/amz_yolov5/../../datasets/sf2020/images/autocross_2020-07-05-11-58-07/left_camera_filtered/00000067.png: 4 duplicate labels removed\n",
            "\u001b[34m\u001b[1mval: \u001b[0mWARNING: /home/qimaqi/Downloads/amz/amz_yolov5/../../datasets/sf2020/images/autocross_2020-07-05-11-58-07/left_camera_filtered/00000068.png: 4 duplicate labels removed\n",
            "\u001b[34m\u001b[1mval: \u001b[0mWARNING: /home/qimaqi/Downloads/amz/amz_yolov5/../../datasets/sf2020/images/autocross_2020-07-05-11-58-07/left_camera_filtered/00000069.png: 5 duplicate labels removed\n",
            "\u001b[34m\u001b[1mval: \u001b[0mWARNING: /home/qimaqi/Downloads/amz/amz_yolov5/../../datasets/sf2020/images/autocross_2020-07-05-11-58-07/left_camera_filtered/00000070.png: 5 duplicate labels removed\n",
            "\u001b[34m\u001b[1mval: \u001b[0mWARNING: /home/qimaqi/Downloads/amz/amz_yolov5/../../datasets/sf2020/images/autocross_2020-07-05-11-58-07/left_camera_filtered/00000072.png: 4 duplicate labels removed\n",
            "\u001b[34m\u001b[1mval: \u001b[0mWARNING: /home/qimaqi/Downloads/amz/amz_yolov5/../../datasets/sf2020/images/autocross_2020-07-05-11-58-07/left_camera_filtered/00000073.png: 6 duplicate labels removed\n",
            "\u001b[34m\u001b[1mval: \u001b[0mWARNING: /home/qimaqi/Downloads/amz/amz_yolov5/../../datasets/sf2020/images/autocross_2020-07-05-11-58-07/left_camera_filtered/00000075.png: 8 duplicate labels removed\n",
            "\u001b[34m\u001b[1mval: \u001b[0mWARNING: /home/qimaqi/Downloads/amz/amz_yolov5/../../datasets/sf2020/images/autocross_2020-07-05-11-58-07/left_camera_filtered/00000076.png: 4 duplicate labels removed\n",
            "\u001b[34m\u001b[1mval: \u001b[0mWARNING: /home/qimaqi/Downloads/amz/amz_yolov5/../../datasets/sf2020/images/autocross_2020-07-05-11-58-07/left_camera_filtered/00000077.png: 3 duplicate labels removed\n",
            "\u001b[34m\u001b[1mval: \u001b[0mWARNING: /home/qimaqi/Downloads/amz/amz_yolov5/../../datasets/sf2020/images/autocross_2020-07-05-11-58-07/left_camera_filtered/00000078.png: 4 duplicate labels removed\n",
            "\u001b[34m\u001b[1mval: \u001b[0mWARNING: /home/qimaqi/Downloads/amz/amz_yolov5/../../datasets/sf2020/images/autocross_2020-07-05-11-58-07/left_camera_filtered/00000079.png: 6 duplicate labels removed\n",
            "\u001b[34m\u001b[1mval: \u001b[0mWARNING: /home/qimaqi/Downloads/amz/amz_yolov5/../../datasets/sf2020/images/autocross_2020-07-05-11-58-07/left_camera_filtered/00000080.png: 8 duplicate labels removed\n",
            "\u001b[34m\u001b[1mval: \u001b[0mWARNING: /home/qimaqi/Downloads/amz/amz_yolov5/../../datasets/sf2020/images/autocross_2020-07-05-11-58-07/left_camera_filtered/00000081.png: 6 duplicate labels removed\n",
            "\u001b[34m\u001b[1mval: \u001b[0mWARNING: /home/qimaqi/Downloads/amz/amz_yolov5/../../datasets/sf2020/images/autocross_2020-07-05-11-58-07/left_camera_filtered/00000082.png: 4 duplicate labels removed\n",
            "\u001b[34m\u001b[1mval: \u001b[0mWARNING: /home/qimaqi/Downloads/amz/amz_yolov5/../../datasets/sf2020/images/autocross_2020-07-05-11-58-07/left_camera_filtered/00000086.png: 7 duplicate labels removed\n",
            "\u001b[34m\u001b[1mval: \u001b[0mWARNING: /home/qimaqi/Downloads/amz/amz_yolov5/../../datasets/sf2020/images/autocross_2020-07-05-11-58-07/left_camera_filtered/00000087.png: 10 duplicate labels removed\n",
            "\u001b[34m\u001b[1mval: \u001b[0mWARNING: /home/qimaqi/Downloads/amz/amz_yolov5/../../datasets/sf2020/images/autocross_2020-07-05-11-58-07/left_camera_filtered/00000088.png: 8 duplicate labels removed\n",
            "\u001b[34m\u001b[1mval: \u001b[0mWARNING: /home/qimaqi/Downloads/amz/amz_yolov5/../../datasets/sf2020/images/autocross_2020-07-05-11-58-07/left_camera_filtered/00000089.png: 10 duplicate labels removed\n",
            "\u001b[34m\u001b[1mval: \u001b[0mWARNING: /home/qimaqi/Downloads/amz/amz_yolov5/../../datasets/sf2020/images/autocross_2020-07-05-11-58-07/left_camera_filtered/00000090.png: 10 duplicate labels removed\n",
            "\u001b[34m\u001b[1mval: \u001b[0mWARNING: /home/qimaqi/Downloads/amz/amz_yolov5/../../datasets/sf2020/images/autocross_2020-07-05-11-58-07/left_camera_filtered/00000091.png: 9 duplicate labels removed\n",
            "\u001b[34m\u001b[1mval: \u001b[0mWARNING: /home/qimaqi/Downloads/amz/amz_yolov5/../../datasets/sf2020/images/autocross_2020-07-05-11-58-07/left_camera_filtered/00000092.png: 7 duplicate labels removed\n",
            "\u001b[34m\u001b[1mval: \u001b[0mWARNING: /home/qimaqi/Downloads/amz/amz_yolov5/../../datasets/sf2020/images/autocross_2020-07-05-11-58-07/left_camera_filtered/00000093.png: 12 duplicate labels removed\n",
            "\u001b[34m\u001b[1mval: \u001b[0mWARNING: /home/qimaqi/Downloads/amz/amz_yolov5/../../datasets/sf2020/images/autocross_2020-07-05-11-58-07/left_camera_filtered/00000094.png: 7 duplicate labels removed\n",
            "\u001b[34m\u001b[1mval: \u001b[0mWARNING: /home/qimaqi/Downloads/amz/amz_yolov5/../../datasets/sf2020/images/autocross_2020-07-05-11-58-07/left_camera_filtered/00000095.png: 9 duplicate labels removed\n",
            "\u001b[34m\u001b[1mval: \u001b[0mWARNING: /home/qimaqi/Downloads/amz/amz_yolov5/../../datasets/sf2020/images/autocross_2020-07-05-11-58-07/left_camera_filtered/00000096.png: 10 duplicate labels removed\n",
            "\u001b[34m\u001b[1mval: \u001b[0mWARNING: /home/qimaqi/Downloads/amz/amz_yolov5/../../datasets/sf2020/images/autocross_2020-07-05-11-58-07/left_camera_filtered/00000097.png: 6 duplicate labels removed\n",
            "\u001b[34m\u001b[1mval: \u001b[0mWARNING: /home/qimaqi/Downloads/amz/amz_yolov5/../../datasets/sf2020/images/autocross_2020-07-05-11-58-07/left_camera_filtered/00000098.png: 10 duplicate labels removed\n",
            "\u001b[34m\u001b[1mval: \u001b[0mWARNING: /home/qimaqi/Downloads/amz/amz_yolov5/../../datasets/sf2020/images/autocross_2020-07-05-11-58-07/left_camera_filtered/00000099.png: 11 duplicate labels removed\n",
            "\u001b[34m\u001b[1mval: \u001b[0mWARNING: /home/qimaqi/Downloads/amz/amz_yolov5/../../datasets/sf2020/images/autocross_2020-07-05-11-58-07/left_camera_filtered/00000101.png: 10 duplicate labels removed\n",
            "\u001b[34m\u001b[1mval: \u001b[0mWARNING: /home/qimaqi/Downloads/amz/amz_yolov5/../../datasets/sf2020/images/autocross_2020-07-05-11-58-07/left_camera_filtered/00000102.png: 13 duplicate labels removed\n",
            "\u001b[34m\u001b[1mval: \u001b[0mWARNING: /home/qimaqi/Downloads/amz/amz_yolov5/../../datasets/sf2020/images/autocross_2020-07-05-11-58-07/left_camera_filtered/00000104.png: 12 duplicate labels removed\n",
            "\u001b[34m\u001b[1mval: \u001b[0mWARNING: /home/qimaqi/Downloads/amz/amz_yolov5/../../datasets/sf2020/images/autocross_2020-07-05-11-58-07/left_camera_filtered/00000105.png: 11 duplicate labels removed\n",
            "\u001b[34m\u001b[1mval: \u001b[0mWARNING: /home/qimaqi/Downloads/amz/amz_yolov5/../../datasets/sf2020/images/autocross_2020-07-05-11-58-07/left_camera_filtered/00000106.png: 13 duplicate labels removed\n",
            "\u001b[34m\u001b[1mval: \u001b[0mWARNING: /home/qimaqi/Downloads/amz/amz_yolov5/../../datasets/sf2020/images/autocross_2020-07-05-11-58-07/left_camera_filtered/00000107.png: 13 duplicate labels removed\n",
            "\u001b[34m\u001b[1mval: \u001b[0mWARNING: /home/qimaqi/Downloads/amz/amz_yolov5/../../datasets/sf2020/images/autocross_2020-07-05-11-58-07/left_camera_filtered/00000108.png: 10 duplicate labels removed\n",
            "\u001b[34m\u001b[1mval: \u001b[0mWARNING: /home/qimaqi/Downloads/amz/amz_yolov5/../../datasets/sf2020/images/autocross_2020-07-05-11-58-07/left_camera_filtered/00000109.png: 10 duplicate labels removed\n",
            "\u001b[34m\u001b[1mval: \u001b[0mWARNING: /home/qimaqi/Downloads/amz/amz_yolov5/../../datasets/sf2020/images/autocross_2020-07-05-11-58-07/left_camera_filtered/00000110.png: 13 duplicate labels removed\n",
            "\u001b[34m\u001b[1mval: \u001b[0mWARNING: /home/qimaqi/Downloads/amz/amz_yolov5/../../datasets/sf2020/images/autocross_2020-07-05-11-58-07/left_camera_filtered/00000111.png: 14 duplicate labels removed\n",
            "\u001b[34m\u001b[1mval: \u001b[0mWARNING: /home/qimaqi/Downloads/amz/amz_yolov5/../../datasets/sf2020/images/autocross_2020-07-05-11-58-07/left_camera_filtered/00000112.png: 15 duplicate labels removed\n",
            "\u001b[34m\u001b[1mval: \u001b[0mWARNING: /home/qimaqi/Downloads/amz/amz_yolov5/../../datasets/sf2020/images/autocross_2020-07-05-11-58-07/left_camera_filtered/00000113.png: 11 duplicate labels removed\n",
            "\u001b[34m\u001b[1mval: \u001b[0mWARNING: /home/qimaqi/Downloads/amz/amz_yolov5/../../datasets/sf2020/images/autocross_2020-07-05-11-58-07/left_camera_filtered/00000115.png: 17 duplicate labels removed\n",
            "\u001b[34m\u001b[1mval: \u001b[0mWARNING: /home/qimaqi/Downloads/amz/amz_yolov5/../../datasets/sf2020/images/autocross_2020-07-05-11-58-07/left_camera_filtered/00000116.png: 9 duplicate labels removed\n",
            "\u001b[34m\u001b[1mval: \u001b[0mWARNING: /home/qimaqi/Downloads/amz/amz_yolov5/../../datasets/sf2020/images/autocross_2020-07-05-11-58-07/left_camera_filtered/00000117.png: 11 duplicate labels removed\n",
            "\u001b[34m\u001b[1mval: \u001b[0mWARNING: /home/qimaqi/Downloads/amz/amz_yolov5/../../datasets/sf2020/images/autocross_2020-07-05-11-58-07/left_camera_filtered/00000118.png: 14 duplicate labels removed\n",
            "\u001b[34m\u001b[1mval: \u001b[0mWARNING: /home/qimaqi/Downloads/amz/amz_yolov5/../../datasets/sf2020/images/autocross_2020-07-05-11-58-07/left_camera_filtered/00000119.png: 13 duplicate labels removed\n",
            "\u001b[34m\u001b[1mval: \u001b[0mWARNING: /home/qimaqi/Downloads/amz/amz_yolov5/../../datasets/sf2020/images/autocross_2020-07-05-11-58-07/left_camera_filtered/00000121.png: 11 duplicate labels removed\n",
            "\u001b[34m\u001b[1mval: \u001b[0mWARNING: /home/qimaqi/Downloads/amz/amz_yolov5/../../datasets/sf2020/images/autocross_2020-07-05-11-58-07/left_camera_filtered/00000122.png: 10 duplicate labels removed\n",
            "\u001b[34m\u001b[1mval: \u001b[0mWARNING: /home/qimaqi/Downloads/amz/amz_yolov5/../../datasets/sf2020/images/autocross_2020-07-05-11-58-07/left_camera_filtered/00000123.png: 12 duplicate labels removed\n",
            "\u001b[34m\u001b[1mval: \u001b[0mWARNING: /home/qimaqi/Downloads/amz/amz_yolov5/../../datasets/sf2020/images/autocross_2020-07-05-11-58-07/left_camera_filtered/00000124.png: 12 duplicate labels removed\n",
            "\u001b[34m\u001b[1mval: \u001b[0mWARNING: /home/qimaqi/Downloads/amz/amz_yolov5/../../datasets/sf2020/images/autocross_2020-07-05-11-58-07/left_camera_filtered/00000125.png: 14 duplicate labels removed\n",
            "\u001b[34m\u001b[1mval: \u001b[0mWARNING: /home/qimaqi/Downloads/amz/amz_yolov5/../../datasets/sf2020/images/autocross_2020-07-05-11-58-07/left_camera_filtered/00000127.png: 9 duplicate labels removed\n",
            "\u001b[34m\u001b[1mval: \u001b[0mWARNING: /home/qimaqi/Downloads/amz/amz_yolov5/../../datasets/sf2020/images/autocross_2020-07-05-11-58-07/left_camera_filtered/00000128.png: 10 duplicate labels removed\n",
            "\u001b[34m\u001b[1mval: \u001b[0mWARNING: /home/qimaqi/Downloads/amz/amz_yolov5/../../datasets/sf2020/images/autocross_2020-07-05-11-58-07/left_camera_filtered/00000129.png: 10 duplicate labels removed\n",
            "\u001b[34m\u001b[1mval: \u001b[0mWARNING: /home/qimaqi/Downloads/amz/amz_yolov5/../../datasets/sf2020/images/autocross_2020-07-05-11-58-07/left_camera_filtered/00000130.png: 10 duplicate labels removed\n",
            "\u001b[34m\u001b[1mval: \u001b[0mWARNING: /home/qimaqi/Downloads/amz/amz_yolov5/../../datasets/sf2020/images/autocross_2020-07-05-11-58-07/left_camera_filtered/00000131.png: 8 duplicate labels removed\n",
            "\u001b[34m\u001b[1mval: \u001b[0mWARNING: /home/qimaqi/Downloads/amz/amz_yolov5/../../datasets/sf2020/images/autocross_2020-07-05-11-58-07/left_camera_filtered/00000132.png: 12 duplicate labels removed\n",
            "\u001b[34m\u001b[1mval: \u001b[0mWARNING: /home/qimaqi/Downloads/amz/amz_yolov5/../../datasets/sf2020/images/autocross_2020-07-05-11-58-07/left_camera_filtered/00000133.png: 10 duplicate labels removed\n",
            "\u001b[34m\u001b[1mval: \u001b[0mWARNING: /home/qimaqi/Downloads/amz/amz_yolov5/../../datasets/sf2020/images/autocross_2020-07-05-11-58-07/left_camera_filtered/00000134.png: 10 duplicate labels removed\n",
            "\u001b[34m\u001b[1mval: \u001b[0mWARNING: /home/qimaqi/Downloads/amz/amz_yolov5/../../datasets/sf2020/images/autocross_2020-07-05-11-58-07/left_camera_filtered/00000135.png: 6 duplicate labels removed\n",
            "\u001b[34m\u001b[1mval: \u001b[0mWARNING: /home/qimaqi/Downloads/amz/amz_yolov5/../../datasets/sf2020/images/autocross_2020-07-05-11-58-07/left_camera_filtered/00000136.png: 8 duplicate labels removed\n",
            "\u001b[34m\u001b[1mval: \u001b[0mWARNING: /home/qimaqi/Downloads/amz/amz_yolov5/../../datasets/sf2020/images/autocross_2020-07-05-11-58-07/left_camera_filtered/00000137.png: 8 duplicate labels removed\n",
            "\u001b[34m\u001b[1mval: \u001b[0mWARNING: /home/qimaqi/Downloads/amz/amz_yolov5/../../datasets/sf2020/images/autocross_2020-07-05-11-58-07/left_camera_filtered/00000138.png: 7 duplicate labels removed\n",
            "\u001b[34m\u001b[1mval: \u001b[0mWARNING: /home/qimaqi/Downloads/amz/amz_yolov5/../../datasets/sf2020/images/autocross_2020-07-05-11-58-07/left_camera_filtered/00000139.png: 8 duplicate labels removed\n",
            "\u001b[34m\u001b[1mval: \u001b[0mWARNING: /home/qimaqi/Downloads/amz/amz_yolov5/../../datasets/sf2020/images/autocross_2020-07-05-11-58-07/left_camera_filtered/00000140.png: 8 duplicate labels removed\n",
            "\u001b[34m\u001b[1mval: \u001b[0mWARNING: /home/qimaqi/Downloads/amz/amz_yolov5/../../datasets/sf2020/images/autocross_2020-07-05-11-58-07/left_camera_filtered/00000142.png: 6 duplicate labels removed\n",
            "\u001b[34m\u001b[1mval: \u001b[0mWARNING: /home/qimaqi/Downloads/amz/amz_yolov5/../../datasets/sf2020/images/autocross_2020-07-05-11-58-07/left_camera_filtered/00000143.png: 6 duplicate labels removed\n",
            "\u001b[34m\u001b[1mval: \u001b[0mWARNING: /home/qimaqi/Downloads/amz/amz_yolov5/../../datasets/sf2020/images/autocross_2020-07-05-11-58-07/left_camera_filtered/00000145.png: 8 duplicate labels removed\n",
            "\u001b[34m\u001b[1mval: \u001b[0mWARNING: /home/qimaqi/Downloads/amz/amz_yolov5/../../datasets/sf2020/images/autocross_2020-07-05-11-58-07/left_camera_filtered/00000146.png: 6 duplicate labels removed\n",
            "\u001b[34m\u001b[1mval: \u001b[0mWARNING: /home/qimaqi/Downloads/amz/amz_yolov5/../../datasets/sf2020/images/autocross_2020-07-05-11-58-07/left_camera_filtered/00000147.png: 9 duplicate labels removed\n",
            "\u001b[34m\u001b[1mval: \u001b[0mWARNING: /home/qimaqi/Downloads/amz/amz_yolov5/../../datasets/sf2020/images/autocross_2020-07-05-11-58-07/left_camera_filtered/00000148.png: 7 duplicate labels removed\n",
            "\u001b[34m\u001b[1mval: \u001b[0mWARNING: /home/qimaqi/Downloads/amz/amz_yolov5/../../datasets/sf2020/images/autocross_2020-07-05-11-58-07/left_camera_filtered/00000149.png: 7 duplicate labels removed\n",
            "\u001b[34m\u001b[1mval: \u001b[0mWARNING: /home/qimaqi/Downloads/amz/amz_yolov5/../../datasets/sf2020/images/autocross_2020-07-05-11-58-07/left_camera_filtered/00000150.png: 5 duplicate labels removed\n",
            "\u001b[34m\u001b[1mval: \u001b[0mWARNING: /home/qimaqi/Downloads/amz/amz_yolov5/../../datasets/sf2020/images/autocross_2020-07-05-11-58-07/left_camera_filtered/00000151.png: 8 duplicate labels removed\n",
            "\u001b[34m\u001b[1mval: \u001b[0mWARNING: /home/qimaqi/Downloads/amz/amz_yolov5/../../datasets/sf2020/images/autocross_2020-07-05-11-58-07/left_camera_filtered/00000152.png: 6 duplicate labels removed\n",
            "\u001b[34m\u001b[1mval: \u001b[0mWARNING: /home/qimaqi/Downloads/amz/amz_yolov5/../../datasets/sf2020/images/autocross_2020-07-05-11-58-07/left_camera_filtered/00000153.png: 4 duplicate labels removed\n",
            "\u001b[34m\u001b[1mval: \u001b[0mWARNING: /home/qimaqi/Downloads/amz/amz_yolov5/../../datasets/sf2020/images/autocross_2020-07-05-11-58-07/left_camera_filtered/00000155.png: 5 duplicate labels removed\n",
            "\u001b[34m\u001b[1mval: \u001b[0mWARNING: /home/qimaqi/Downloads/amz/amz_yolov5/../../datasets/sf2020/images/autocross_2020-07-05-11-58-07/left_camera_filtered/00000156.png: 6 duplicate labels removed\n",
            "\u001b[34m\u001b[1mval: \u001b[0mWARNING: /home/qimaqi/Downloads/amz/amz_yolov5/../../datasets/sf2020/images/autocross_2020-07-05-11-58-07/left_camera_filtered/00000157.png: 3 duplicate labels removed\n",
            "\u001b[34m\u001b[1mval: \u001b[0mWARNING: /home/qimaqi/Downloads/amz/amz_yolov5/../../datasets/sf2020/images/autocross_2020-07-05-11-58-07/left_camera_filtered/00000158.png: 12 duplicate labels removed\n",
            "\u001b[34m\u001b[1mval: \u001b[0mWARNING: /home/qimaqi/Downloads/amz/amz_yolov5/../../datasets/sf2020/images/autocross_2020-07-05-11-58-07/left_camera_filtered/00000159.png: 7 duplicate labels removed\n",
            "\u001b[34m\u001b[1mval: \u001b[0mWARNING: /home/qimaqi/Downloads/amz/amz_yolov5/../../datasets/sf2020/images/autocross_2020-07-05-11-58-07/left_camera_filtered/00000160.png: 6 duplicate labels removed\n",
            "\u001b[34m\u001b[1mval: \u001b[0mWARNING: /home/qimaqi/Downloads/amz/amz_yolov5/../../datasets/sf2020/images/autocross_2020-07-05-11-58-07/left_camera_filtered/00000161.png: 4 duplicate labels removed\n",
            "\u001b[34m\u001b[1mval: \u001b[0mWARNING: /home/qimaqi/Downloads/amz/amz_yolov5/../../datasets/sf2020/images/autocross_2020-07-05-11-58-07/left_camera_filtered/00000162.png: 9 duplicate labels removed\n",
            "\u001b[34m\u001b[1mval: \u001b[0mWARNING: /home/qimaqi/Downloads/amz/amz_yolov5/../../datasets/sf2020/images/autocross_2020-07-05-11-58-07/left_camera_filtered/00000163.png: 7 duplicate labels removed\n",
            "\u001b[34m\u001b[1mval: \u001b[0mWARNING: /home/qimaqi/Downloads/amz/amz_yolov5/../../datasets/sf2020/images/autocross_2020-07-05-11-58-07/left_camera_filtered/00000164.png: 11 duplicate labels removed\n",
            "\u001b[34m\u001b[1mval: \u001b[0mWARNING: /home/qimaqi/Downloads/amz/amz_yolov5/../../datasets/sf2020/images/autocross_2020-07-05-11-58-07/left_camera_filtered/00000165.png: 9 duplicate labels removed\n",
            "\u001b[34m\u001b[1mval: \u001b[0mWARNING: /home/qimaqi/Downloads/amz/amz_yolov5/../../datasets/sf2020/images/autocross_2020-07-05-11-58-07/left_camera_filtered/00000166.png: 4 duplicate labels removed\n",
            "\u001b[34m\u001b[1mval: \u001b[0mWARNING: /home/qimaqi/Downloads/amz/amz_yolov5/../../datasets/sf2020/images/autocross_2020-07-05-11-58-07/left_camera_filtered/00000167.png: 5 duplicate labels removed\n",
            "\u001b[34m\u001b[1mval: \u001b[0mWARNING: /home/qimaqi/Downloads/amz/amz_yolov5/../../datasets/sf2020/images/autocross_2020-07-05-11-58-07/left_camera_filtered/00000168.png: 7 duplicate labels removed\n",
            "\u001b[34m\u001b[1mval: \u001b[0mWARNING: /home/qimaqi/Downloads/amz/amz_yolov5/../../datasets/sf2020/images/autocross_2020-07-05-11-58-07/left_camera_filtered/00000169.png: 9 duplicate labels removed\n",
            "\u001b[34m\u001b[1mval: \u001b[0mWARNING: /home/qimaqi/Downloads/amz/amz_yolov5/../../datasets/sf2020/images/autocross_2020-07-05-11-58-07/left_camera_filtered/00000170.png: 8 duplicate labels removed\n",
            "\u001b[34m\u001b[1mval: \u001b[0mWARNING: /home/qimaqi/Downloads/amz/amz_yolov5/../../datasets/sf2020/images/autocross_2020-07-05-11-58-07/left_camera_filtered/00000171.png: 6 duplicate labels removed\n",
            "\u001b[34m\u001b[1mval: \u001b[0mWARNING: /home/qimaqi/Downloads/amz/amz_yolov5/../../datasets/sf2020/images/autocross_2020-07-05-11-58-07/left_camera_filtered/00000172.png: 5 duplicate labels removed\n",
            "\u001b[34m\u001b[1mval: \u001b[0mWARNING: /home/qimaqi/Downloads/amz/amz_yolov5/../../datasets/sf2020/images/autocross_2020-07-05-11-58-07/left_camera_filtered/00000173.png: 6 duplicate labels removed\n",
            "\u001b[34m\u001b[1mval: \u001b[0mWARNING: /home/qimaqi/Downloads/amz/amz_yolov5/../../datasets/sf2020/images/autocross_2020-07-05-11-58-07/left_camera_filtered/00000174.png: 5 duplicate labels removed\n",
            "\u001b[34m\u001b[1mval: \u001b[0mWARNING: /home/qimaqi/Downloads/amz/amz_yolov5/../../datasets/sf2020/images/autocross_2020-07-05-11-58-07/left_camera_filtered/00000175.png: 7 duplicate labels removed\n",
            "\u001b[34m\u001b[1mval: \u001b[0mWARNING: /home/qimaqi/Downloads/amz/amz_yolov5/../../datasets/sf2020/images/autocross_2020-07-05-11-58-07/left_camera_filtered/00000177.png: 6 duplicate labels removed\n",
            "\u001b[34m\u001b[1mval: \u001b[0mWARNING: /home/qimaqi/Downloads/amz/amz_yolov5/../../datasets/sf2020/images/autocross_2020-07-05-11-58-07/left_camera_filtered/00000178.png: 8 duplicate labels removed\n",
            "\u001b[34m\u001b[1mval: \u001b[0mWARNING: /home/qimaqi/Downloads/amz/amz_yolov5/../../datasets/sf2020/images/autocross_2020-07-05-11-58-07/left_camera_filtered/00000179.png: 5 duplicate labels removed\n",
            "\u001b[34m\u001b[1mval: \u001b[0mWARNING: /home/qimaqi/Downloads/amz/amz_yolov5/../../datasets/sf2020/images/autocross_2020-07-05-11-58-07/left_camera_filtered/00000181.png: 4 duplicate labels removed\n",
            "\u001b[34m\u001b[1mval: \u001b[0mWARNING: /home/qimaqi/Downloads/amz/amz_yolov5/../../datasets/sf2020/images/autocross_2020-07-05-11-58-07/left_camera_filtered/00000182.png: 5 duplicate labels removed\n",
            "\u001b[34m\u001b[1mval: \u001b[0mWARNING: /home/qimaqi/Downloads/amz/amz_yolov5/../../datasets/sf2020/images/autocross_2020-07-05-11-58-07/left_camera_filtered/00000183.png: 6 duplicate labels removed\n",
            "\u001b[34m\u001b[1mval: \u001b[0mWARNING: /home/qimaqi/Downloads/amz/amz_yolov5/../../datasets/sf2020/images/autocross_2020-07-05-11-58-07/left_camera_filtered/00000184.png: 4 duplicate labels removed\n",
            "\u001b[34m\u001b[1mval: \u001b[0mWARNING: /home/qimaqi/Downloads/amz/amz_yolov5/../../datasets/sf2020/images/autocross_2020-07-05-11-58-07/left_camera_filtered/00000185.png: 6 duplicate labels removed\n",
            "\u001b[34m\u001b[1mval: \u001b[0mWARNING: /home/qimaqi/Downloads/amz/amz_yolov5/../../datasets/sf2020/images/autocross_2020-07-05-11-58-07/left_camera_filtered/00000186.png: 5 duplicate labels removed\n",
            "\u001b[34m\u001b[1mval: \u001b[0mWARNING: /home/qimaqi/Downloads/amz/amz_yolov5/../../datasets/sf2020/images/autocross_2020-07-05-11-58-07/left_camera_filtered/00000187.png: 5 duplicate labels removed\n",
            "\u001b[34m\u001b[1mval: \u001b[0mWARNING: /home/qimaqi/Downloads/amz/amz_yolov5/../../datasets/sf2020/images/autocross_2020-07-05-11-58-07/left_camera_filtered/00000188.png: 7 duplicate labels removed\n",
            "\u001b[34m\u001b[1mval: \u001b[0mWARNING: /home/qimaqi/Downloads/amz/amz_yolov5/../../datasets/sf2020/images/autocross_2020-07-05-11-58-07/left_camera_filtered/00000189.png: 6 duplicate labels removed\n",
            "\u001b[34m\u001b[1mval: \u001b[0mWARNING: /home/qimaqi/Downloads/amz/amz_yolov5/../../datasets/sf2020/images/autocross_2020-07-05-11-58-07/left_camera_filtered/00000190.png: 7 duplicate labels removed\n",
            "\u001b[34m\u001b[1mval: \u001b[0mWARNING: /home/qimaqi/Downloads/amz/amz_yolov5/../../datasets/sf2020/images/autocross_2020-07-05-11-58-07/left_camera_filtered/00000191.png: 8 duplicate labels removed\n",
            "\u001b[34m\u001b[1mval: \u001b[0mWARNING: /home/qimaqi/Downloads/amz/amz_yolov5/../../datasets/sf2020/images/autocross_2020-07-05-11-58-07/left_camera_filtered/00000192.png: 5 duplicate labels removed\n",
            "\u001b[34m\u001b[1mval: \u001b[0mWARNING: /home/qimaqi/Downloads/amz/amz_yolov5/../../datasets/sf2020/images/autocross_2020-07-05-11-58-07/left_camera_filtered/00000193.png: 6 duplicate labels removed\n",
            "\u001b[34m\u001b[1mval: \u001b[0mWARNING: /home/qimaqi/Downloads/amz/amz_yolov5/../../datasets/sf2020/images/autocross_2020-07-05-11-58-07/left_camera_filtered/00000194.png: 8 duplicate labels removed\n",
            "\u001b[34m\u001b[1mval: \u001b[0mWARNING: /home/qimaqi/Downloads/amz/amz_yolov5/../../datasets/sf2020/images/autocross_2020-07-05-11-58-07/left_camera_filtered/00000195.png: 7 duplicate labels removed\n",
            "\u001b[34m\u001b[1mval: \u001b[0mWARNING: /home/qimaqi/Downloads/amz/amz_yolov5/../../datasets/sf2020/images/autocross_2020-07-05-11-58-07/left_camera_filtered/00000197.png: 3 duplicate labels removed\n",
            "\u001b[34m\u001b[1mval: \u001b[0mWARNING: /home/qimaqi/Downloads/amz/amz_yolov5/../../datasets/sf2020/images/autocross_2020-07-05-11-58-07/left_camera_filtered/00000198.png: 5 duplicate labels removed\n",
            "\u001b[34m\u001b[1mval: \u001b[0mWARNING: /home/qimaqi/Downloads/amz/amz_yolov5/../../datasets/sf2020/images/autocross_2020-07-05-11-58-07/left_camera_filtered/00000199.png: 6 duplicate labels removed\n",
            "\u001b[34m\u001b[1mval: \u001b[0mWARNING: /home/qimaqi/Downloads/amz/amz_yolov5/../../datasets/sf2020/images/autocross_2020-07-05-11-58-07/left_camera_filtered/00000200.png: 6 duplicate labels removed\n",
            "\u001b[34m\u001b[1mval: \u001b[0mWARNING: /home/qimaqi/Downloads/amz/amz_yolov5/../../datasets/sf2020/images/autocross_2020-07-05-11-58-07/left_camera_filtered/00000201.png: 4 duplicate labels removed\n",
            "\u001b[34m\u001b[1mval: \u001b[0mWARNING: /home/qimaqi/Downloads/amz/amz_yolov5/../../datasets/sf2020/images/autocross_2020-07-05-11-58-07/left_camera_filtered/00000202.png: 4 duplicate labels removed\n",
            "\u001b[34m\u001b[1mval: \u001b[0mWARNING: /home/qimaqi/Downloads/amz/amz_yolov5/../../datasets/sf2020/images/autocross_2020-07-05-11-58-07/left_camera_filtered/00000203.png: 6 duplicate labels removed\n",
            "\u001b[34m\u001b[1mval: \u001b[0mWARNING: /home/qimaqi/Downloads/amz/amz_yolov5/../../datasets/sf2020/images/autocross_2020-07-05-11-58-07/left_camera_filtered/00000204.png: 5 duplicate labels removed\n",
            "\u001b[34m\u001b[1mval: \u001b[0mWARNING: /home/qimaqi/Downloads/amz/amz_yolov5/../../datasets/sf2020/images/autocross_2020-07-05-11-58-07/left_camera_filtered/00000205.png: 6 duplicate labels removed\n",
            "\u001b[34m\u001b[1mval: \u001b[0mWARNING: /home/qimaqi/Downloads/amz/amz_yolov5/../../datasets/sf2020/images/autocross_2020-07-05-11-58-07/left_camera_filtered/00000207.png: 4 duplicate labels removed\n",
            "\u001b[34m\u001b[1mval: \u001b[0mWARNING: /home/qimaqi/Downloads/amz/amz_yolov5/../../datasets/sf2020/images/autocross_2020-07-05-11-58-07/left_camera_filtered/00000208.png: 5 duplicate labels removed\n",
            "\u001b[34m\u001b[1mval: \u001b[0mWARNING: /home/qimaqi/Downloads/amz/amz_yolov5/../../datasets/sf2020/images/autocross_2020-07-05-11-58-07/left_camera_filtered/00000209.png: 3 duplicate labels removed\n",
            "\u001b[34m\u001b[1mval: \u001b[0mWARNING: /home/qimaqi/Downloads/amz/amz_yolov5/../../datasets/sf2020/images/autocross_2020-07-05-11-58-07/left_camera_filtered/00000210.png: 4 duplicate labels removed\n",
            "\u001b[34m\u001b[1mval: \u001b[0mWARNING: /home/qimaqi/Downloads/amz/amz_yolov5/../../datasets/sf2020/images/autocross_2020-07-05-11-58-07/left_camera_filtered/00000211.png: 2 duplicate labels removed\n",
            "\u001b[34m\u001b[1mval: \u001b[0mWARNING: /home/qimaqi/Downloads/amz/amz_yolov5/../../datasets/sf2020/images/autocross_2020-07-05-11-58-07/left_camera_filtered/00000213.png: 3 duplicate labels removed\n",
            "\u001b[34m\u001b[1mval: \u001b[0mWARNING: /home/qimaqi/Downloads/amz/amz_yolov5/../../datasets/sf2020/images/autocross_2020-07-05-11-58-07/left_camera_filtered/00000214.png: 4 duplicate labels removed\n",
            "\u001b[34m\u001b[1mval: \u001b[0mWARNING: /home/qimaqi/Downloads/amz/amz_yolov5/../../datasets/sf2020/images/autocross_2020-07-05-11-58-07/left_camera_filtered/00000215.png: 3 duplicate labels removed\n",
            "\u001b[34m\u001b[1mval: \u001b[0mWARNING: /home/qimaqi/Downloads/amz/amz_yolov5/../../datasets/sf2020/images/autocross_2020-07-05-11-58-07/left_camera_filtered/00000216.png: 4 duplicate labels removed\n",
            "\u001b[34m\u001b[1mval: \u001b[0mWARNING: /home/qimaqi/Downloads/amz/amz_yolov5/../../datasets/sf2020/images/autocross_2020-07-05-11-58-07/left_camera_filtered/00000217.png: 3 duplicate labels removed\n",
            "\u001b[34m\u001b[1mval: \u001b[0mWARNING: /home/qimaqi/Downloads/amz/amz_yolov5/../../datasets/sf2020/images/autocross_2020-07-05-11-58-07/left_camera_filtered/00000218.png: 3 duplicate labels removed\n",
            "\u001b[34m\u001b[1mval: \u001b[0mWARNING: /home/qimaqi/Downloads/amz/amz_yolov5/../../datasets/sf2020/images/autocross_2020-07-05-11-58-07/left_camera_filtered/00000219.png: 4 duplicate labels removed\n",
            "\u001b[34m\u001b[1mval: \u001b[0mWARNING: /home/qimaqi/Downloads/amz/amz_yolov5/../../datasets/sf2020/images/autocross_2020-07-05-11-58-07/left_camera_filtered/00000220.png: 5 duplicate labels removed\n",
            "\u001b[34m\u001b[1mval: \u001b[0mWARNING: /home/qimaqi/Downloads/amz/amz_yolov5/../../datasets/sf2020/images/autocross_2020-07-05-11-58-07/left_camera_filtered/00000221.png: 6 duplicate labels removed\n",
            "\u001b[34m\u001b[1mval: \u001b[0mWARNING: /home/qimaqi/Downloads/amz/amz_yolov5/../../datasets/sf2020/images/autocross_2020-07-05-11-58-07/left_camera_filtered/00000222.png: 4 duplicate labels removed\n",
            "\u001b[34m\u001b[1mval: \u001b[0mWARNING: /home/qimaqi/Downloads/amz/amz_yolov5/../../datasets/sf2020/images/autocross_2020-07-05-11-58-07/left_camera_filtered/00000223.png: 6 duplicate labels removed\n",
            "\u001b[34m\u001b[1mval: \u001b[0mWARNING: /home/qimaqi/Downloads/amz/amz_yolov5/../../datasets/sf2020/images/autocross_2020-07-05-11-58-07/left_camera_filtered/00000225.png: 6 duplicate labels removed\n",
            "\u001b[34m\u001b[1mval: \u001b[0mWARNING: /home/qimaqi/Downloads/amz/amz_yolov5/../../datasets/sf2020/images/autocross_2020-07-05-11-58-07/left_camera_filtered/00000227.png: 5 duplicate labels removed\n",
            "\u001b[34m\u001b[1mval: \u001b[0mWARNING: /home/qimaqi/Downloads/amz/amz_yolov5/../../datasets/sf2020/images/autocross_2020-07-05-11-58-07/left_camera_filtered/00000228.png: 11 duplicate labels removed\n",
            "\u001b[34m\u001b[1mval: \u001b[0mWARNING: /home/qimaqi/Downloads/amz/amz_yolov5/../../datasets/sf2020/images/autocross_2020-07-05-11-58-07/left_camera_filtered/00000230.png: 6 duplicate labels removed\n",
            "\u001b[34m\u001b[1mval: \u001b[0mWARNING: /home/qimaqi/Downloads/amz/amz_yolov5/../../datasets/sf2020/images/autocross_2020-07-05-11-58-07/left_camera_filtered/00000231.png: 9 duplicate labels removed\n",
            "\u001b[34m\u001b[1mval: \u001b[0mWARNING: /home/qimaqi/Downloads/amz/amz_yolov5/../../datasets/sf2020/images/autocross_2020-07-05-11-58-07/left_camera_filtered/00000232.png: 7 duplicate labels removed\n",
            "\u001b[34m\u001b[1mval: \u001b[0mWARNING: /home/qimaqi/Downloads/amz/amz_yolov5/../../datasets/sf2020/images/autocross_2020-07-05-11-58-07/left_camera_filtered/00000233.png: 6 duplicate labels removed\n",
            "\u001b[34m\u001b[1mval: \u001b[0mNew cache created: /home/qimaqi/Downloads/amz/amz_yolov5/../../datasets/sf2020/labels/autocross_2020-07-05-11-58-07/forward_camera_filtered.cache\n",
            "               Class     Images     Labels          P          R     mAP@.5 mAP@^C\n"
          ]
        }
      ],
      "source": [
        "# Run YOLOv5x on COCO val\n",
        "!python3 val.py --weights weights/yolov5s.pt --data amz.yaml --img 2592 --iou 0.65 --device cpu"
      ]
    },
    {
      "cell_type": "markdown",
      "metadata": {
        "id": "rc_KbFk0juX2"
      },
      "source": [
        "## COCO test\n",
        "Download [COCO test2017](https://github.com/ultralytics/yolov5/blob/74b34872fdf41941cddcf243951cdb090fbac17b/data/coco.yaml#L15) dataset (7GB - 40,000 images), to test model accuracy on test-dev set (**20,000 images, no labels**). Results are saved to a `*.json` file which should be **zipped** and submitted to the evaluation server at https://competitions.codalab.org/competitions/20794."
      ]
    },
    {
      "cell_type": "code",
      "execution_count": null,
      "metadata": {
        "id": "V0AJnSeCIHyJ"
      },
      "outputs": [],
      "source": [
        "# Download COCO test-dev2017\n",
        "torch.hub.download_url_to_file('https://ultralytics.com/assets/coco2017labels.zip', 'tmp.zip')\n",
        "!unzip -q tmp.zip -d ../datasets && rm tmp.zip\n",
        "!f=\"test2017.zip\" && curl http://images.cocodataset.org/zips/$f -o $f && unzip -q $f -d ../datasets/coco/images"
      ]
    },
    {
      "cell_type": "code",
      "execution_count": null,
      "metadata": {
        "id": "29GJXAP_lPrt"
      },
      "outputs": [],
      "source": [
        "# Run YOLOv5x on COCO test\n",
        "!python val.py --weights yolov5x.pt --data coco.yaml --img 640 --iou 0.65 --half --task test"
      ]
    },
    {
      "cell_type": "markdown",
      "metadata": {
        "id": "ZY2VXXXu74w5"
      },
      "source": [
        "# 3. Train\n",
        "\n",
        "<p align=\"\"><a href=\"https://roboflow.com/?ref=ultralytics\"><img width=\"1000\" src=\"https://uploads-ssl.webflow.com/5f6bc60e665f54545a1e52a5/615627e5824c9c6195abfda9_computer-vision-cycle.png\"/></a></p>\n",
        "Close the active learning loop by sampling images from your inference conditions with the `roboflow` pip package\n",
        "<br><br>\n",
        "\n",
        "Train a YOLOv5s model on the [COCO128](https://www.kaggle.com/ultralytics/coco128) dataset with `--data coco128.yaml`, starting from pretrained `--weights yolov5s.pt`, or from randomly initialized `--weights '' --cfg yolov5s.yaml`.\n",
        "\n",
        "- **Pretrained [Models](https://github.com/ultralytics/yolov5/tree/master/models)** are downloaded\n",
        "automatically from the [latest YOLOv5 release](https://github.com/ultralytics/yolov5/releases)\n",
        "- **[Datasets](https://github.com/ultralytics/yolov5/tree/master/data)** available for autodownload include: [COCO](https://github.com/ultralytics/yolov5/blob/master/data/coco.yaml), [COCO128](https://github.com/ultralytics/yolov5/blob/master/data/coco128.yaml), [VOC](https://github.com/ultralytics/yolov5/blob/master/data/VOC.yaml), [Argoverse](https://github.com/ultralytics/yolov5/blob/master/data/Argoverse.yaml), [VisDrone](https://github.com/ultralytics/yolov5/blob/master/data/VisDrone.yaml), [GlobalWheat](https://github.com/ultralytics/yolov5/blob/master/data/GlobalWheat2020.yaml), [xView](https://github.com/ultralytics/yolov5/blob/master/data/xView.yaml), [Objects365](https://github.com/ultralytics/yolov5/blob/master/data/Objects365.yaml), [SKU-110K](https://github.com/ultralytics/yolov5/blob/master/data/SKU-110K.yaml).\n",
        "- **Training Results** are saved to `runs/train/` with incrementing run directories, i.e. `runs/train/exp2`, `runs/train/exp3` etc.\n",
        "<br><br>\n",
        "\n",
        "## Train on Custom Data with Roboflow 🌟 NEW\n",
        "\n",
        "[Roboflow](https://roboflow.com/?ref=ultralytics) enables you to easily **organize, label, and prepare** a high quality dataset with your own custom data. Roboflow also makes it easy to establish an active learning pipeline, collaborate with your team on dataset improvement, and integrate directly into your model building workflow with the `roboflow` pip package.\n",
        "\n",
        "- Custom Training Example: [https://blog.roboflow.com/how-to-train-yolov5-on-a-custom-dataset/](https://blog.roboflow.com/how-to-train-yolov5-on-a-custom-dataset/?ref=ultralytics)\n",
        "- Custom Training Notebook: [![Open In Colab](https://colab.research.google.com/assets/colab-badge.svg)](https://colab.research.google.com/github/roboflow-ai/yolov5-custom-training-tutorial/blob/main/yolov5-custom-training.ipynb)\n",
        "<br>\n",
        "\n",
        "<p align=\"\"><a href=\"https://roboflow.com/?ref=ultralytics\"><img width=\"480\" src=\"https://uploads-ssl.webflow.com/5f6bc60e665f54545a1e52a5/6152a275ad4b4ac20cd2e21a_roboflow-annotate.gif\"/></a></p>Label images lightning fast (including with model-assisted labeling)"
      ]
    },
    {
      "cell_type": "code",
      "execution_count": null,
      "metadata": {
        "id": "bOy5KI2ncnWd"
      },
      "outputs": [],
      "source": [
        "# Tensorboard  (optional)\n",
        "%load_ext tensorboard\n",
        "%tensorboard --logdir runs/train"
      ]
    },
    {
      "cell_type": "code",
      "execution_count": null,
      "metadata": {
        "id": "2fLAV42oNb7M"
      },
      "outputs": [],
      "source": [
        "# Weights & Biases  (optional)\n",
        "%pip install -q wandb\n",
        "import wandb\n",
        "wandb.login()"
      ]
    },
    {
      "cell_type": "code",
      "execution_count": null,
      "metadata": {
        "colab": {
          "base_uri": "https://localhost:8080/"
        },
        "id": "1NcFxRcFdJ_O",
        "outputId": "8724d13d-6711-4a12-d96a-1c655e5c3549"
      },
      "outputs": [
        {
          "name": "stdout",
          "output_type": "stream",
          "text": [
            "\u001b[34m\u001b[1mtrain: \u001b[0mweights=yolov5s.pt, cfg=, data=coco128.yaml, hyp=data/hyps/hyp.scratch.yaml, epochs=3, batch_size=16, imgsz=640, rect=False, resume=False, nosave=False, noval=False, noautoanchor=False, evolve=None, bucket=, cache=ram, image_weights=False, device=, multi_scale=False, single_cls=False, adam=False, sync_bn=False, workers=8, project=runs/train, name=exp, exist_ok=False, quad=False, linear_lr=False, label_smoothing=0.0, patience=100, freeze=0, save_period=-1, local_rank=-1, entity=None, upload_dataset=False, bbox_interval=-1, artifact_alias=latest\n",
            "\u001b[34m\u001b[1mgithub: \u001b[0mup to date with https://github.com/ultralytics/yolov5 ✅\n",
            "YOLOv5 🚀 v6.0-48-g84a8099 torch 1.10.0+cu102 CUDA:0 (Tesla V100-SXM2-16GB, 16160MiB)\n",
            "\n",
            "\u001b[34m\u001b[1mhyperparameters: \u001b[0mlr0=0.01, lrf=0.1, momentum=0.937, weight_decay=0.0005, warmup_epochs=3.0, warmup_momentum=0.8, warmup_bias_lr=0.1, box=0.05, cls=0.5, cls_pw=1.0, obj=1.0, obj_pw=1.0, iou_t=0.2, anchor_t=4.0, fl_gamma=0.0, hsv_h=0.015, hsv_s=0.7, hsv_v=0.4, degrees=0.0, translate=0.1, scale=0.5, shear=0.0, perspective=0.0, flipud=0.0, fliplr=0.5, mosaic=1.0, mixup=0.0, copy_paste=0.0\n",
            "\u001b[34m\u001b[1mWeights & Biases: \u001b[0mrun 'pip install wandb' to automatically track and visualize YOLOv5 🚀 runs (RECOMMENDED)\n",
            "\u001b[34m\u001b[1mTensorBoard: \u001b[0mStart with 'tensorboard --logdir runs/train', view at http://localhost:6006/\n",
            "\n",
            "                 from  n    params  module                                  arguments                     \n",
            "  0                -1  1      3520  models.common.Conv                      [3, 32, 6, 2, 2]              \n",
            "  1                -1  1     18560  models.common.Conv                      [32, 64, 3, 2]                \n",
            "  2                -1  1     18816  models.common.C3                        [64, 64, 1]                   \n",
            "  3                -1  1     73984  models.common.Conv                      [64, 128, 3, 2]               \n",
            "  4                -1  2    115712  models.common.C3                        [128, 128, 2]                 \n",
            "  5                -1  1    295424  models.common.Conv                      [128, 256, 3, 2]              \n",
            "  6                -1  3    625152  models.common.C3                        [256, 256, 3]                 \n",
            "  7                -1  1   1180672  models.common.Conv                      [256, 512, 3, 2]              \n",
            "  8                -1  1   1182720  models.common.C3                        [512, 512, 1]                 \n",
            "  9                -1  1    656896  models.common.SPPF                      [512, 512, 5]                 \n",
            " 10                -1  1    131584  models.common.Conv                      [512, 256, 1, 1]              \n",
            " 11                -1  1         0  torch.nn.modules.upsampling.Upsample    [None, 2, 'nearest']          \n",
            " 12           [-1, 6]  1         0  models.common.Concat                    [1]                           \n",
            " 13                -1  1    361984  models.common.C3                        [512, 256, 1, False]          \n",
            " 14                -1  1     33024  models.common.Conv                      [256, 128, 1, 1]              \n",
            " 15                -1  1         0  torch.nn.modules.upsampling.Upsample    [None, 2, 'nearest']          \n",
            " 16           [-1, 4]  1         0  models.common.Concat                    [1]                           \n",
            " 17                -1  1     90880  models.common.C3                        [256, 128, 1, False]          \n",
            " 18                -1  1    147712  models.common.Conv                      [128, 128, 3, 2]              \n",
            " 19          [-1, 14]  1         0  models.common.Concat                    [1]                           \n",
            " 20                -1  1    296448  models.common.C3                        [256, 256, 1, False]          \n",
            " 21                -1  1    590336  models.common.Conv                      [256, 256, 3, 2]              \n",
            " 22          [-1, 10]  1         0  models.common.Concat                    [1]                           \n",
            " 23                -1  1   1182720  models.common.C3                        [512, 512, 1, False]          \n",
            " 24      [17, 20, 23]  1    229245  models.yolo.Detect                      [80, [[10, 13, 16, 30, 33, 23], [30, 61, 62, 45, 59, 119], [116, 90, 156, 198, 373, 326]], [128, 256, 512]]\n",
            "Model Summary: 270 layers, 7235389 parameters, 7235389 gradients, 16.5 GFLOPs\n",
            "\n",
            "Transferred 349/349 items from yolov5s.pt\n",
            "Scaled weight_decay = 0.0005\n",
            "\u001b[34m\u001b[1moptimizer:\u001b[0m SGD with parameter groups 57 weight, 60 weight (no decay), 60 bias\n",
            "\u001b[34m\u001b[1malbumentations: \u001b[0mversion 1.0.3 required by YOLOv5, but version 0.1.12 is currently installed\n",
            "\u001b[34m\u001b[1mtrain: \u001b[0mScanning '../datasets/coco128/labels/train2017.cache' images and labels... 128 found, 0 missing, 2 empty, 0 corrupted: 100% 128/128 [00:00<?, ?it/s]\n",
            "\u001b[34m\u001b[1mtrain: \u001b[0mCaching images (0.1GB ram): 100% 128/128 [00:00<00:00, 296.04it/s]\n",
            "\u001b[34m\u001b[1mval: \u001b[0mScanning '../datasets/coco128/labels/train2017.cache' images and labels... 128 found, 0 missing, 2 empty, 0 corrupted: 100% 128/128 [00:00<?, ?it/s]\n",
            "\u001b[34m\u001b[1mval: \u001b[0mCaching images (0.1GB ram): 100% 128/128 [00:01<00:00, 121.58it/s]\n",
            "Plotting labels... \n",
            "\n",
            "\u001b[34m\u001b[1mAutoAnchor: \u001b[0mAnalyzing anchors... anchors/target = 4.27, Best Possible Recall (BPR) = 0.9935\n",
            "Image sizes 640 train, 640 val\n",
            "Using 2 dataloader workers\n",
            "Logging results to \u001b[1mruns/train/exp\u001b[0m\n",
            "Starting training for 3 epochs...\n",
            "\n",
            "     Epoch   gpu_mem       box       obj       cls    labels  img_size\n",
            "       0/2     3.62G   0.04621    0.0711   0.02112       203       640: 100% 8/8 [00:04<00:00,  1.99it/s]\n",
            "               Class     Images     Labels          P          R     mAP@.5 mAP@.5:.95: 100% 4/4 [00:00<00:00,  4.37it/s]\n",
            "                 all        128        929      0.655      0.547      0.622       0.41\n",
            "\n",
            "     Epoch   gpu_mem       box       obj       cls    labels  img_size\n",
            "       1/2     5.31G   0.04564   0.06898   0.02116       143       640: 100% 8/8 [00:01<00:00,  4.77it/s]\n",
            "               Class     Images     Labels          P          R     mAP@.5 mAP@.5:.95: 100% 4/4 [00:00<00:00,  4.27it/s]\n",
            "                 all        128        929       0.68      0.554      0.632      0.419\n",
            "\n",
            "     Epoch   gpu_mem       box       obj       cls    labels  img_size\n",
            "       2/2     5.31G   0.04487   0.06883   0.01998       253       640: 100% 8/8 [00:01<00:00,  4.91it/s]\n",
            "               Class     Images     Labels          P          R     mAP@.5 mAP@.5:.95: 100% 4/4 [00:00<00:00,  4.30it/s]\n",
            "                 all        128        929       0.71      0.544      0.629      0.423\n",
            "\n",
            "3 epochs completed in 0.003 hours.\n",
            "Optimizer stripped from runs/train/exp/weights/last.pt, 14.9MB\n",
            "Optimizer stripped from runs/train/exp/weights/best.pt, 14.9MB\n",
            "\n",
            "Validating runs/train/exp/weights/best.pt...\n",
            "Fusing layers... \n",
            "Model Summary: 213 layers, 7225885 parameters, 0 gradients, 16.5 GFLOPs\n",
            "               Class     Images     Labels          P          R     mAP@.5 mAP@.5:.95: 100% 4/4 [00:03<00:00,  1.04it/s]\n",
            "                 all        128        929       0.71      0.544       0.63      0.423\n",
            "              person        128        254      0.816      0.669      0.774      0.507\n",
            "             bicycle        128          6      0.799      0.667      0.614      0.371\n",
            "                 car        128         46      0.803      0.355      0.486      0.209\n",
            "          motorcycle        128          5      0.704        0.6      0.791      0.583\n",
            "            airplane        128          6          1      0.795      0.995      0.717\n",
            "                 bus        128          7      0.656      0.714       0.72      0.606\n",
            "               train        128          3      0.852          1      0.995      0.682\n",
            "               truck        128         12      0.521       0.25      0.395      0.215\n",
            "                boat        128          6      0.795      0.333      0.445      0.137\n",
            "       traffic light        128         14      0.576      0.143       0.24      0.161\n",
            "           stop sign        128          2      0.636        0.5      0.828      0.713\n",
            "               bench        128          9      0.972      0.444      0.575       0.25\n",
            "                bird        128         16      0.939      0.968      0.988      0.645\n",
            "                 cat        128          4      0.984       0.75      0.822      0.694\n",
            "                 dog        128          9      0.888      0.667      0.903       0.54\n",
            "               horse        128          2      0.689          1      0.995      0.697\n",
            "            elephant        128         17       0.96      0.882      0.943      0.681\n",
            "                bear        128          1      0.549          1      0.995      0.995\n",
            "               zebra        128          4       0.86          1      0.995      0.952\n",
            "             giraffe        128          9      0.822      0.778      0.905       0.57\n",
            "            backpack        128          6          1      0.309      0.457      0.195\n",
            "            umbrella        128         18      0.775      0.576       0.74      0.418\n",
            "             handbag        128         19      0.628      0.105      0.167      0.111\n",
            "                 tie        128          7       0.96      0.571      0.701      0.441\n",
            "            suitcase        128          4          1      0.895      0.995      0.621\n",
            "             frisbee        128          5      0.641        0.8      0.798      0.664\n",
            "                skis        128          1      0.627          1      0.995      0.497\n",
            "           snowboard        128          7      0.988      0.714      0.768      0.556\n",
            "         sports ball        128          6      0.671        0.5      0.579      0.339\n",
            "                kite        128         10      0.631      0.515      0.598      0.221\n",
            "        baseball bat        128          4       0.47      0.456      0.277      0.137\n",
            "      baseball glove        128          7      0.459      0.429      0.334      0.182\n",
            "          skateboard        128          5        0.7       0.48      0.736      0.548\n",
            "       tennis racket        128          7      0.559      0.571      0.538      0.315\n",
            "              bottle        128         18      0.607      0.389      0.484      0.282\n",
            "          wine glass        128         16      0.722      0.812       0.82      0.385\n",
            "                 cup        128         36      0.881      0.361      0.532      0.312\n",
            "                fork        128          6      0.384      0.167      0.239      0.191\n",
            "               knife        128         16      0.908      0.616      0.681      0.443\n",
            "               spoon        128         22      0.836      0.364      0.536      0.264\n",
            "                bowl        128         28      0.793      0.536      0.633      0.471\n",
            "              banana        128          1          0          0      0.142     0.0995\n",
            "            sandwich        128          2          0          0     0.0951     0.0717\n",
            "              orange        128          4          1          0       0.67      0.317\n",
            "            broccoli        128         11      0.345      0.182      0.283      0.243\n",
            "              carrot        128         24      0.688      0.459      0.612      0.402\n",
            "             hot dog        128          2      0.424      0.771      0.497      0.473\n",
            "               pizza        128          5      0.622          1      0.824      0.551\n",
            "               donut        128         14      0.703          1      0.952      0.853\n",
            "                cake        128          4      0.733          1      0.945      0.777\n",
            "               chair        128         35      0.512      0.486      0.488      0.222\n",
            "               couch        128          6       0.68       0.36      0.746      0.406\n",
            "        potted plant        128         14      0.797      0.714      0.808      0.482\n",
            "                 bed        128          3          1          0      0.474      0.318\n",
            "        dining table        128         13      0.852      0.445      0.478      0.315\n",
            "              toilet        128          2      0.512        0.5      0.554      0.487\n",
            "                  tv        128          2      0.754          1      0.995      0.895\n",
            "              laptop        128          3          1          0       0.39      0.147\n",
            "               mouse        128          2          1          0     0.0283     0.0226\n",
            "              remote        128          8      0.747      0.625      0.636      0.488\n",
            "          cell phone        128          8      0.555      0.166      0.417      0.222\n",
            "           microwave        128          3      0.417          1      0.995      0.732\n",
            "                oven        128          5       0.37        0.4      0.432      0.249\n",
            "                sink        128          6      0.356      0.167      0.269      0.149\n",
            "        refrigerator        128          5      0.705        0.8      0.814       0.45\n",
            "                book        128         29      0.628      0.138      0.298      0.136\n",
            "               clock        128          9      0.857      0.778      0.893      0.574\n",
            "                vase        128          2      0.242          1      0.663      0.622\n",
            "            scissors        128          1          1          0     0.0207    0.00207\n",
            "          teddy bear        128         21      0.847      0.381      0.622      0.345\n",
            "          toothbrush        128          5       0.99        0.6      0.662       0.45\n",
            "Results saved to \u001b[1mruns/train/exp\u001b[0m\n"
          ]
        }
      ],
      "source": [
        "# Train YOLOv5s on COCO128 for 3 epochs\n",
        "!python train.py --img 640 --batch 16 --epochs 3 --data coco128.yaml --weights yolov5s.pt --cache\n",
        "\n",
        "# python train.py --img 640 --batch 16 --epochs 3 --data coco128.yaml --weights yolov5s.pt --cache"
      ]
    },
    {
      "cell_type": "markdown",
      "metadata": {
        "id": "15glLzbQx5u0"
      },
      "source": [
        "# 4. Visualize"
      ]
    },
    {
      "cell_type": "markdown",
      "metadata": {
        "id": "DLI1JmHU7B0l"
      },
      "source": [
        "## Weights & Biases Logging 🌟 NEW\n",
        "\n",
        "[Weights & Biases](https://wandb.ai/site?utm_campaign=repo_yolo_notebook) (W&B) is now integrated with YOLOv5 for real-time visualization and cloud logging of training runs. This allows for better run comparison and introspection, as well improved visibility and collaboration for teams. To enable W&B `pip install wandb`, and then train normally (you will be guided through setup on first use). \n",
        "\n",
        "During training you will see live updates at [https://wandb.ai/home](https://wandb.ai/home?utm_campaign=repo_yolo_notebook), and you can create and share detailed [Reports](https://wandb.ai/glenn-jocher/yolov5_tutorial/reports/YOLOv5-COCO128-Tutorial-Results--VmlldzozMDI5OTY) of your results. For more information see the [YOLOv5 Weights & Biases Tutorial](https://github.com/ultralytics/yolov5/issues/1289). \n",
        "\n",
        "<p align=\"left\"><img width=\"900\" alt=\"Weights & Biases dashboard\" src=\"https://user-images.githubusercontent.com/26833433/135390767-c28b050f-8455-4004-adb0-3b730386e2b2.png\"></p>"
      ]
    },
    {
      "cell_type": "markdown",
      "metadata": {
        "id": "-WPvRbS5Swl6"
      },
      "source": [
        "## Local Logging\n",
        "\n",
        "All results are logged by default to `runs/train`, with a new experiment directory created for each new training as `runs/train/exp2`, `runs/train/exp3`, etc. View train and val jpgs to see mosaics, labels, predictions and augmentation effects. Note an Ultralytics **Mosaic Dataloader** is used for training (shown below), which combines 4 images into 1 mosaic during training.\n",
        "\n",
        "> <img src=\"https://user-images.githubusercontent.com/26833433/131255960-b536647f-7c61-4f60-bbc5-cb2544d71b2a.jpg\" width=\"700\">  \n",
        "`train_batch0.jpg` shows train batch 0 mosaics and labels\n",
        "\n",
        "> <img src=\"https://user-images.githubusercontent.com/26833433/131256748-603cafc7-55d1-4e58-ab26-83657761aed9.jpg\" width=\"700\">  \n",
        "`test_batch0_labels.jpg` shows val batch 0 labels\n",
        "\n",
        "> <img src=\"https://user-images.githubusercontent.com/26833433/131256752-3f25d7a5-7b0f-4bb3-ab78-46343c3800fe.jpg\" width=\"700\">  \n",
        "`test_batch0_pred.jpg` shows val batch 0 _predictions_\n",
        "\n",
        "Training results are automatically logged to [Tensorboard](https://www.tensorflow.org/tensorboard) and [CSV](https://github.com/ultralytics/yolov5/pull/4148) as `results.csv`, which is plotted as `results.png` (below) after training completes. You can also plot any `results.csv` file manually:\n",
        "\n",
        "```python\n",
        "from utils.plots import plot_results \n",
        "plot_results('path/to/results.csv')  # plot 'results.csv' as 'results.png'\n",
        "```\n",
        "\n",
        "<img align=\"left\" width=\"800\" alt=\"COCO128 Training Results\" src=\"https://user-images.githubusercontent.com/26833433/126906780-8c5e2990-6116-4de6-b78a-367244a33ccf.png\">"
      ]
    },
    {
      "cell_type": "markdown",
      "metadata": {
        "id": "Zelyeqbyt3GD"
      },
      "source": [
        "# Environments\n",
        "\n",
        "YOLOv5 may be run in any of the following up-to-date verified environments (with all dependencies including [CUDA](https://developer.nvidia.com/cuda)/[CUDNN](https://developer.nvidia.com/cudnn), [Python](https://www.python.org/) and [PyTorch](https://pytorch.org/) preinstalled):\n",
        "\n",
        "- **Google Colab and Kaggle** notebooks with free GPU: <a href=\"https://colab.research.google.com/github/ultralytics/yolov5/blob/master/tutorial.ipynb\"><img src=\"https://colab.research.google.com/assets/colab-badge.svg\" alt=\"Open In Colab\"></a> <a href=\"https://www.kaggle.com/ultralytics/yolov5\"><img src=\"https://kaggle.com/static/images/open-in-kaggle.svg\" alt=\"Open In Kaggle\"></a>\n",
        "- **Google Cloud** Deep Learning VM. See [GCP Quickstart Guide](https://github.com/ultralytics/yolov5/wiki/GCP-Quickstart)\n",
        "- **Amazon** Deep Learning AMI. See [AWS Quickstart Guide](https://github.com/ultralytics/yolov5/wiki/AWS-Quickstart)\n",
        "- **Docker Image**. See [Docker Quickstart Guide](https://github.com/ultralytics/yolov5/wiki/Docker-Quickstart) <a href=\"https://hub.docker.com/r/ultralytics/yolov5\"><img src=\"https://img.shields.io/docker/pulls/ultralytics/yolov5?logo=docker\" alt=\"Docker Pulls\"></a>\n"
      ]
    },
    {
      "cell_type": "markdown",
      "metadata": {
        "id": "6Qu7Iesl0p54"
      },
      "source": [
        "# Status\n",
        "\n",
        "![CI CPU testing](https://github.com/ultralytics/yolov5/workflows/CI%20CPU%20testing/badge.svg)\n",
        "\n",
        "If this badge is green, all [YOLOv5 GitHub Actions](https://github.com/ultralytics/yolov5/actions) Continuous Integration (CI) tests are currently passing. CI tests verify correct operation of YOLOv5 training ([train.py](https://github.com/ultralytics/yolov5/blob/master/train.py)), testing ([val.py](https://github.com/ultralytics/yolov5/blob/master/val.py)), inference ([detect.py](https://github.com/ultralytics/yolov5/blob/master/detect.py)) and export ([export.py](https://github.com/ultralytics/yolov5/blob/master/export.py)) on MacOS, Windows, and Ubuntu every 24 hours and on every commit.\n"
      ]
    },
    {
      "cell_type": "markdown",
      "metadata": {
        "id": "IEijrePND_2I"
      },
      "source": [
        "# Appendix\n",
        "\n",
        "Optional extras below. Unit tests validate repo functionality and should be run on any PRs submitted.\n"
      ]
    },
    {
      "cell_type": "code",
      "execution_count": null,
      "metadata": {
        "id": "mcKoSIK2WSzj"
      },
      "outputs": [],
      "source": [
        "# Reproduce\n",
        "for x in 'yolov5n', 'yolov5s', 'yolov5m', 'yolov5l', 'yolov5x':\n",
        "  !python val.py --weights {x}.pt --data coco.yaml --img 640 --task speed  # speed\n",
        "  !python val.py --weights {x}.pt --data coco.yaml --img 640 --conf 0.001 --iou 0.65  # mAP"
      ]
    },
    {
      "cell_type": "code",
      "execution_count": null,
      "metadata": {
        "id": "GMusP4OAxFu6"
      },
      "outputs": [],
      "source": [
        "# PyTorch Hub\n",
        "import torch\n",
        "\n",
        "# Model\n",
        "model = torch.hub.load('ultralytics/yolov5', 'yolov5s')\n",
        "\n",
        "# Images\n",
        "dir = 'https://ultralytics.com/images/'\n",
        "imgs = [dir + f for f in ('zidane.jpg', 'bus.jpg')]  # batch of images\n",
        "\n",
        "# Inference\n",
        "results = model(imgs)\n",
        "results.print()  # or .show(), .save()"
      ]
    },
    {
      "cell_type": "code",
      "execution_count": null,
      "metadata": {
        "id": "FGH0ZjkGjejy"
      },
      "outputs": [],
      "source": [
        "# # CI Checks\n",
        "# %%shell\n",
        "# export PYTHONPATH=\"$PWD\"  # to run *.py. files in subdirectories\n",
        "# rm -rf runs  # remove runs/\n",
        "# for m in yolov5n; do  # models\n",
        "#   python train.py --img 64 --batch 32 --weights $m.pt --epochs 1 --device 0  # train pretrained\n",
        "#   python train.py --img 64 --batch 32 --weights '' --cfg $m.yaml --epochs 1 --device 0  # train scratch\n",
        "#   for d in 0 cpu; do  # devices\n",
        "#     python val.py --weights $m.pt --device $d # val official\n",
        "#     python val.py --weights runs/train/exp/weights/best.pt --device $d # val custom\n",
        "#     python detect.py --weights $m.pt --device $d  # detect official\n",
        "#     python detect.py --weights runs/train/exp/weights/best.pt --device $d  # detect custom\n",
        "#   done\n",
        "#   python hubconf.py  # hub\n",
        "#   python models/yolo.py --cfg $m.yaml  # build PyTorch model\n",
        "#   python models/tf.py --weights $m.pt  # build TensorFlow model\n",
        "#   python export.py --img 64 --batch 1 --weights $m.pt --include torchscript onnx  # export\n",
        "# done"
      ]
    },
    {
      "cell_type": "code",
      "execution_count": null,
      "metadata": {
        "id": "gogI-kwi3Tye"
      },
      "outputs": [],
      "source": [
        "# Profile\n",
        "from utils.torch_utils import profile\n",
        "\n",
        "m1 = lambda x: x * torch.sigmoid(x)\n",
        "m2 = torch.nn.SiLU()\n",
        "results = profile(input=torch.randn(16, 3, 640, 640), ops=[m1, m2], n=100)"
      ]
    },
    {
      "cell_type": "code",
      "execution_count": null,
      "metadata": {
        "id": "RVRSOhEvUdb5"
      },
      "outputs": [],
      "source": [
        "# Evolve\n",
        "!python train.py --img 640 --batch 64 --epochs 100 --data coco128.yaml --weights yolov5s.pt --cache --noautoanchor --evolve\n",
        "!d=runs/train/evolve && cp evolve.* $d && zip -r evolve.zip $d && gsutil mv evolve.zip gs://bucket  # upload results (optional)"
      ]
    },
    {
      "cell_type": "code",
      "execution_count": null,
      "metadata": {
        "id": "BSgFCAcMbk1R"
      },
      "outputs": [],
      "source": [
        "# VOC\n",
        "for b, m in zip([64, 64, 32, 16], ['yolov5s', 'yolov5m', 'yolov5l', 'yolov5x']):  # zip(batch_size, model)\n",
        "  !python train.py --batch {b} --weights {m}.pt --data VOC.yaml --epochs 50 --cache --img 512 --nosave --hyp hyp.finetune.yaml --project VOC --name {m}"
      ]
    },
    {
      "cell_type": "code",
      "execution_count": null,
      "metadata": {
        "id": "VTRwsvA9u7ln"
      },
      "outputs": [],
      "source": [
        "# TensorRT \n",
        "# https://docs.nvidia.com/deeplearning/tensorrt/install-guide/index.html#installing-pip\n",
        "!pip install -U nvidia-tensorrt --index-url https://pypi.ngc.nvidia.com  # install\n",
        "!python export.py --weights yolov5s.pt --include engine --imgsz 640 640 --device 0  # export\n",
        "!python detect.py --weights yolov5s.engine --imgsz 640 640 --device 0  # inference"
      ]
    }
  ],
  "metadata": {
    "accelerator": "GPU",
    "colab": {
      "collapsed_sections": [],
      "include_colab_link": true,
      "name": "YOLOv5 Tutorial",
      "provenance": []
    },
    "kernelspec": {
      "display_name": "Python 3.8.10 64-bit",
      "language": "python",
      "name": "python3"
    },
    "language_info": {
      "codemirror_mode": {
        "name": "ipython",
        "version": 3
      },
      "file_extension": ".py",
      "mimetype": "text/x-python",
      "name": "python",
      "nbconvert_exporter": "python",
      "pygments_lexer": "ipython3",
      "version": "3.8.10"
    },
    "vscode": {
      "interpreter": {
        "hash": "916dbcbb3f70747c44a77c7bcd40155683ae19c65e1c03b4aa3499c5328201f1"
      }
    },
    "widgets": {
      "application/vnd.jupyter.widget-state+json": {
        "0ce7164fc0c74bb9a2b5c7037375a727": {
          "model_module": "@jupyter-widgets/controls",
          "model_module_version": "1.5.0",
          "model_name": "ProgressStyleModel",
          "state": {
            "_model_module": "@jupyter-widgets/controls",
            "_model_module_version": "1.5.0",
            "_model_name": "ProgressStyleModel",
            "_view_count": null,
            "_view_module": "@jupyter-widgets/base",
            "_view_module_version": "1.2.0",
            "_view_name": "StyleView",
            "bar_color": null,
            "description_width": ""
          }
        },
        "25621cff5d16448cb7260e839fd0f543": {
          "model_module": "@jupyter-widgets/base",
          "model_module_version": "1.2.0",
          "model_name": "LayoutModel",
          "state": {
            "_model_module": "@jupyter-widgets/base",
            "_model_module_version": "1.2.0",
            "_model_name": "LayoutModel",
            "_view_count": null,
            "_view_module": "@jupyter-widgets/base",
            "_view_module_version": "1.2.0",
            "_view_name": "LayoutView",
            "align_content": null,
            "align_items": null,
            "align_self": null,
            "border": null,
            "bottom": null,
            "display": null,
            "flex": null,
            "flex_flow": null,
            "grid_area": null,
            "grid_auto_columns": null,
            "grid_auto_flow": null,
            "grid_auto_rows": null,
            "grid_column": null,
            "grid_gap": null,
            "grid_row": null,
            "grid_template_areas": null,
            "grid_template_columns": null,
            "grid_template_rows": null,
            "height": null,
            "justify_content": null,
            "justify_items": null,
            "left": null,
            "margin": null,
            "max_height": null,
            "max_width": null,
            "min_height": null,
            "min_width": null,
            "object_fit": null,
            "object_position": null,
            "order": null,
            "overflow": null,
            "overflow_x": null,
            "overflow_y": null,
            "padding": null,
            "right": null,
            "top": null,
            "visibility": null,
            "width": null
          }
        },
        "384a001876054c93b0af45cd1e960bfe": {
          "model_module": "@jupyter-widgets/controls",
          "model_module_version": "1.5.0",
          "model_name": "HTMLModel",
          "state": {
            "_dom_classes": [],
            "_model_module": "@jupyter-widgets/controls",
            "_model_module_version": "1.5.0",
            "_model_name": "HTMLModel",
            "_view_count": null,
            "_view_module": "@jupyter-widgets/controls",
            "_view_module_version": "1.5.0",
            "_view_name": "HTMLView",
            "description": "",
            "description_tooltip": null,
            "layout": "IPY_MODEL_25621cff5d16448cb7260e839fd0f543",
            "placeholder": "​",
            "style": "IPY_MODEL_9f09facb2a6c4a7096810d327c8b551c",
            "value": "100%"
          }
        },
        "473371611126476c88d5d42ec7031ed6": {
          "model_module": "@jupyter-widgets/controls",
          "model_module_version": "1.5.0",
          "model_name": "DescriptionStyleModel",
          "state": {
            "_model_module": "@jupyter-widgets/controls",
            "_model_module_version": "1.5.0",
            "_model_name": "DescriptionStyleModel",
            "_view_count": null,
            "_view_module": "@jupyter-widgets/base",
            "_view_module_version": "1.2.0",
            "_view_name": "StyleView",
            "description_width": ""
          }
        },
        "5296d28be75740b2892ae421bbec3657": {
          "model_module": "@jupyter-widgets/controls",
          "model_module_version": "1.5.0",
          "model_name": "HTMLModel",
          "state": {
            "_dom_classes": [],
            "_model_module": "@jupyter-widgets/controls",
            "_model_module_version": "1.5.0",
            "_model_name": "HTMLModel",
            "_view_count": null,
            "_view_module": "@jupyter-widgets/controls",
            "_view_module_version": "1.5.0",
            "_view_name": "HTMLView",
            "description": "",
            "description_tooltip": null,
            "layout": "IPY_MODEL_65efdfd0d26c46e79c8c5ff3b77126cc",
            "placeholder": "​",
            "style": "IPY_MODEL_473371611126476c88d5d42ec7031ed6",
            "value": " 780M/780M [00:11&lt;00:00, 91.9MB/s]"
          }
        },
        "65efdfd0d26c46e79c8c5ff3b77126cc": {
          "model_module": "@jupyter-widgets/base",
          "model_module_version": "1.2.0",
          "model_name": "LayoutModel",
          "state": {
            "_model_module": "@jupyter-widgets/base",
            "_model_module_version": "1.2.0",
            "_model_name": "LayoutModel",
            "_view_count": null,
            "_view_module": "@jupyter-widgets/base",
            "_view_module_version": "1.2.0",
            "_view_name": "LayoutView",
            "align_content": null,
            "align_items": null,
            "align_self": null,
            "border": null,
            "bottom": null,
            "display": null,
            "flex": null,
            "flex_flow": null,
            "grid_area": null,
            "grid_auto_columns": null,
            "grid_auto_flow": null,
            "grid_auto_rows": null,
            "grid_column": null,
            "grid_gap": null,
            "grid_row": null,
            "grid_template_areas": null,
            "grid_template_columns": null,
            "grid_template_rows": null,
            "height": null,
            "justify_content": null,
            "justify_items": null,
            "left": null,
            "margin": null,
            "max_height": null,
            "max_width": null,
            "min_height": null,
            "min_width": null,
            "object_fit": null,
            "object_position": null,
            "order": null,
            "overflow": null,
            "overflow_x": null,
            "overflow_y": null,
            "padding": null,
            "right": null,
            "top": null,
            "visibility": null,
            "width": null
          }
        },
        "769ecde6f2e64bacb596ce972f8d3d2d": {
          "model_module": "@jupyter-widgets/base",
          "model_module_version": "1.2.0",
          "model_name": "LayoutModel",
          "state": {
            "_model_module": "@jupyter-widgets/base",
            "_model_module_version": "1.2.0",
            "_model_name": "LayoutModel",
            "_view_count": null,
            "_view_module": "@jupyter-widgets/base",
            "_view_module_version": "1.2.0",
            "_view_name": "LayoutView",
            "align_content": null,
            "align_items": null,
            "align_self": null,
            "border": null,
            "bottom": null,
            "display": null,
            "flex": null,
            "flex_flow": null,
            "grid_area": null,
            "grid_auto_columns": null,
            "grid_auto_flow": null,
            "grid_auto_rows": null,
            "grid_column": null,
            "grid_gap": null,
            "grid_row": null,
            "grid_template_areas": null,
            "grid_template_columns": null,
            "grid_template_rows": null,
            "height": null,
            "justify_content": null,
            "justify_items": null,
            "left": null,
            "margin": null,
            "max_height": null,
            "max_width": null,
            "min_height": null,
            "min_width": null,
            "object_fit": null,
            "object_position": null,
            "order": null,
            "overflow": null,
            "overflow_x": null,
            "overflow_y": null,
            "padding": null,
            "right": null,
            "top": null,
            "visibility": null,
            "width": null
          }
        },
        "9f09facb2a6c4a7096810d327c8b551c": {
          "model_module": "@jupyter-widgets/controls",
          "model_module_version": "1.5.0",
          "model_name": "DescriptionStyleModel",
          "state": {
            "_model_module": "@jupyter-widgets/controls",
            "_model_module_version": "1.5.0",
            "_model_name": "DescriptionStyleModel",
            "_view_count": null,
            "_view_module": "@jupyter-widgets/base",
            "_view_module_version": "1.2.0",
            "_view_name": "StyleView",
            "description_width": ""
          }
        },
        "c4c4593c10904cb5b8a5724d60c7e181": {
          "model_module": "@jupyter-widgets/base",
          "model_module_version": "1.2.0",
          "model_name": "LayoutModel",
          "state": {
            "_model_module": "@jupyter-widgets/base",
            "_model_module_version": "1.2.0",
            "_model_name": "LayoutModel",
            "_view_count": null,
            "_view_module": "@jupyter-widgets/base",
            "_view_module_version": "1.2.0",
            "_view_name": "LayoutView",
            "align_content": null,
            "align_items": null,
            "align_self": null,
            "border": null,
            "bottom": null,
            "display": null,
            "flex": null,
            "flex_flow": null,
            "grid_area": null,
            "grid_auto_columns": null,
            "grid_auto_flow": null,
            "grid_auto_rows": null,
            "grid_column": null,
            "grid_gap": null,
            "grid_row": null,
            "grid_template_areas": null,
            "grid_template_columns": null,
            "grid_template_rows": null,
            "height": null,
            "justify_content": null,
            "justify_items": null,
            "left": null,
            "margin": null,
            "max_height": null,
            "max_width": null,
            "min_height": null,
            "min_width": null,
            "object_fit": null,
            "object_position": null,
            "order": null,
            "overflow": null,
            "overflow_x": null,
            "overflow_y": null,
            "padding": null,
            "right": null,
            "top": null,
            "visibility": null,
            "width": null
          }
        },
        "dded0aeae74440f7ba2ffa0beb8dd612": {
          "model_module": "@jupyter-widgets/controls",
          "model_module_version": "1.5.0",
          "model_name": "FloatProgressModel",
          "state": {
            "_dom_classes": [],
            "_model_module": "@jupyter-widgets/controls",
            "_model_module_version": "1.5.0",
            "_model_name": "FloatProgressModel",
            "_view_count": null,
            "_view_module": "@jupyter-widgets/controls",
            "_view_module_version": "1.5.0",
            "_view_name": "ProgressView",
            "bar_style": "success",
            "description": "",
            "description_tooltip": null,
            "layout": "IPY_MODEL_c4c4593c10904cb5b8a5724d60c7e181",
            "max": 818322941,
            "min": 0,
            "orientation": "horizontal",
            "style": "IPY_MODEL_0ce7164fc0c74bb9a2b5c7037375a727",
            "value": 818322941
          }
        },
        "eb95db7cae194218b3fcefb439b6352f": {
          "model_module": "@jupyter-widgets/controls",
          "model_module_version": "1.5.0",
          "model_name": "HBoxModel",
          "state": {
            "_dom_classes": [],
            "_model_module": "@jupyter-widgets/controls",
            "_model_module_version": "1.5.0",
            "_model_name": "HBoxModel",
            "_view_count": null,
            "_view_module": "@jupyter-widgets/controls",
            "_view_module_version": "1.5.0",
            "_view_name": "HBoxView",
            "box_style": "",
            "children": [
              "IPY_MODEL_384a001876054c93b0af45cd1e960bfe",
              "IPY_MODEL_dded0aeae74440f7ba2ffa0beb8dd612",
              "IPY_MODEL_5296d28be75740b2892ae421bbec3657"
            ],
            "layout": "IPY_MODEL_769ecde6f2e64bacb596ce972f8d3d2d"
          }
        }
      }
    }
  },
  "nbformat": 4,
  "nbformat_minor": 0
}
