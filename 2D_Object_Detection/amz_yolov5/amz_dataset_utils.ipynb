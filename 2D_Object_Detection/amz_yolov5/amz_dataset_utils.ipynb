{
 "cells": [
  {
   "cell_type": "code",
   "execution_count": 1,
   "metadata": {},
   "outputs": [],
   "source": [
    "import os\n"
   ]
  },
  {
   "cell_type": "markdown",
   "metadata": {},
   "source": [
    "### Change the label from 7 column to 6 and also change imange name"
   ]
  },
  {
   "cell_type": "code",
   "execution_count": 14,
   "metadata": {},
   "outputs": [],
   "source": [
    "label_path_base = \"/home/qimaqi/Downloads/datasets/amz/labels_amz\"\n",
    "label_wirte_path = \"/home/qimaqi/Downloads/datasets/amz/labels\"\n",
    "val_txt_path = \"/home/qimaqi/Downloads/datasets/amz/val.txt\"\n",
    "image_path = \"./images/\"\n",
    "### open a label.txt\n",
    "labels_list = os.listdir(label_path_base)\n",
    "# print(labels_list)\n",
    "val_f = open(val_txt_path,\"w\")\n",
    "for file in labels_list:\n",
    "    img_name = image_path + file[:-3] + \"png\" +\"\\n\"\n",
    "    val_f.write(img_name)\n",
    "    lines_write = []\n",
    "    f = open(os.path.join(label_wirte_path,file),\"w\")\n",
    "    for line in open(os.path.join(label_path_base,file)):\n",
    "        line_list = line.split(\" \")\n",
    "        line_list.pop(1)\n",
    "        line_string_list = \" \".join(line_list)\n",
    "        # lines_write\n",
    "        lines_write.append(line_string_list)\n",
    "        # lines_write = [line_o+\"/n\" for line_o in lines_write]\n",
    "    for line_i in lines_write:\n",
    "        f.write(line_i)\n",
    "    \n",
    "    # f.writelines(lines_write)\n",
    "    f.close()\n"
   ]
  },
  {
   "cell_type": "code",
   "execution_count": null,
   "metadata": {},
   "outputs": [],
   "source": [
    "import os\n",
    "\n",
    "label_path_base = \"/home/qimaqi/Downloads/datasets/amz/labels_amz\"\n",
    "label_wirte_path = \"/home/qimaqi/Downloads/datasets/amz/labels\"\n",
    "\n",
    "image_path = \"./images/\"\n",
    "### open a label.txt\n",
    "labels_list = os.listdir(label_path_base)\n",
    "# print(labels_list)\n",
    "for file in labels_list:\n",
    "    img_name = image_path + file[:-3] + \"png\" +\"\\n\"\n",
    "    lines_write = []\n",
    "    f = open(os.path.join(label_wirte_path,file),\"w\")\n",
    "    for line in open(os.path.join(label_path_base,file)):\n",
    "        line_list = line.split(\" \")\n",
    "        line_list.pop(1)\n",
    "        line_string_list = \" \".join(line_list)\n",
    "        # lines_write\n",
    "        lines_write.append(line_string_list)\n",
    "        # lines_write = [line_o+\"/n\" for line_o in lines_write]\n",
    "    for line_i in lines_write:\n",
    "        f.write(line_i)\n",
    "    \n",
    "    f.close()"
   ]
  },
  {
   "cell_type": "markdown",
   "metadata": {},
   "source": [
    "### extract images"
   ]
  },
  {
   "cell_type": "code",
   "execution_count": 2,
   "metadata": {},
   "outputs": [
    {
     "name": "stderr",
     "output_type": "stream",
     "text": [
      "/sensors/forward_camera/image_color: 100%|██████████| 1466/1466 [04:35<00:00,  5.32it/s]\n"
     ]
    }
   ],
   "source": [
    "import rosbag\n",
    "import numpy as np\n",
    "import cv2\n",
    "from cv_bridge import CvBridge\n",
    "from tqdm import tqdm\n",
    "\n",
    "rosbag_path = '/media/qimaqi/My Passport/tmp/amz/be_autox_2022-05-11-15-16-17.bag'\n",
    "self_bag = rosbag.Bag(rosbag_path)\n",
    "type_and_topic_info = self_bag.get_type_and_topic_info(\n",
    "            topic_filters=None)\n",
    "\n",
    "topic = '/sensors/forward_camera/image_color'\n",
    "DATA_FOLDER = '/media/qimaqi/My Passport/tmp/amz/04-29/'\n",
    "\n",
    "topic_name_to_folder_name_dict = {\n",
    "            \"/sensors/fw_lidar/point_cloud_raw\": \"fw_lidar\",\n",
    "            \"/sensors/mrh_lidar/point_cloud_raw\": \"mrh_lidar\",\n",
    "            \"/sensors/forward_camera/image_color\": \"forward_camera\",\n",
    "            \"/perception/lidar/motion_compensated/merge_pc\": \"merge_pc\",\n",
    "            \"/perception/sensor_fusion_overlay/point_cloud_compensated\":\"compensated_pc\"\n",
    "        }\n",
    "\n",
    "pbar = tqdm(total=type_and_topic_info[1][topic].message_count,\n",
    "            desc=topic)\n",
    "\n",
    "data_dir = os.path.join(DATA_FOLDER,\n",
    "                        topic_name_to_folder_name_dict[topic])\n",
    "if not os.path.exists(data_dir):\n",
    "    os.makedirs(data_dir)\n",
    "\n",
    "counter = 0\n",
    "timestamps = []\n",
    "images = []\n",
    "bridge = CvBridge()\n",
    "\n",
    "for _, msg, _ in self_bag.read_messages(topics=[topic]):\n",
    "\n",
    "    timestamp = float(\"{}.{}\".format(\n",
    "        str(msg.header.stamp.secs),\n",
    "        str(msg.header.stamp.nsecs).zfill(9)))\n",
    "    \n",
    "    timestamp_ns = msg.header.stamp.to_nsec()\n",
    "\n",
    "    image = bridge.imgmsg_to_cv2(msg, 'bgr8')\n",
    "    cv2.imwrite(os.path.join(data_dir,\n",
    "                                str(timestamp_ns).zfill(25) + '.png'), image)\n",
    "    timestamps.append(timestamp)\n",
    "    images.append(image)\n",
    "\n",
    "    counter += 1\n",
    "\n",
    "    pbar.update(1)\n",
    "\n",
    "pbar.close()\n"
   ]
  },
  {
   "cell_type": "markdown",
   "metadata": {},
   "source": []
  }
 ],
 "metadata": {
  "interpreter": {
   "hash": "916dbcbb3f70747c44a77c7bcd40155683ae19c65e1c03b4aa3499c5328201f1"
  },
  "kernelspec": {
   "display_name": "Python 3.8.10 64-bit",
   "language": "python",
   "name": "python3"
  },
  "language_info": {
   "codemirror_mode": {
    "name": "ipython",
    "version": 3
   },
   "file_extension": ".py",
   "mimetype": "text/x-python",
   "name": "python",
   "nbconvert_exporter": "python",
   "pygments_lexer": "ipython3",
   "version": "3.8.10"
  },
  "orig_nbformat": 4
 },
 "nbformat": 4,
 "nbformat_minor": 2
}
